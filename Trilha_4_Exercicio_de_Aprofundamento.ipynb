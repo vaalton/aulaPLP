{
  "nbformat": 4,
  "nbformat_minor": 0,
  "metadata": {
    "colab": {
      "name": "Trilha 4 - Exercicio de Aprofundamento.ipynb",
      "provenance": [],
      "toc_visible": true
    },
    "kernelspec": {
      "name": "python3",
      "display_name": "Python 3"
    },
    "language_info": {
      "name": "python"
    }
  },
  "cells": [
    {
      "cell_type": "markdown",
      "metadata": {
        "id": "g7gn93R1K66c"
      },
      "source": [
        "**Trilha 4 - Exercício de Aprofundamento**\n",
        "\n",
        "Aqui você vai empregar os conhecimentos aprendidos de Python para efetuar sua própria Análise de Dados. Empregue bases de dados extraídas de um ou ambos os sites abaixo:  \n",
        "\n",
        "a. https://wid.world/\n",
        "\n",
        "b. https://www.gapminder.org/\n",
        "\n",
        "O emprego de uma base formada por dados de ambos os sites é bastante enriquecedor mas não é obrigatório. Você pode empregar uma ou mais bases de um único site e deixar para estudar mais adiante merges e joins de tabelas com R. \n",
        "\n",
        "Faça uma Análise Exploratória dos Dados (EDA) com dados de seu interesse, empregando o Python e o que você aprendeu até aqui. Os sites apresentam diversos dados sobre as diferenças de desenvolvimento dos países e a desigualdade. Foque em perguntas que são do seu interesse sobre os dados.  \n",
        "\n",
        "Na sua análise você deve responder ao menos quatro perguntas relevantes sobre os dados, incluir na sua análise seleções e visualizações dos dados e um texto de conclusão a cada pergunta.  \n",
        "\n",
        "Peça ao professor modelos de código para sua implementação. \n",
        "\n",
        "Seu código deve ser minimamente claro e organizado. Não são necessários comentários detalhados, mas deixe claro no seu código cada parte (atividade), cada fase realizada e a resposta final com sua conclusão.  \n"
      ]
    },
    {
      "cell_type": "markdown",
      "metadata": {
        "id": "Yp8aEsdVPqif"
      },
      "source": [
        "# Importe das Bases\n",
        "\n",
        "Busquei no WID 3 bases de dados com relação ao brasil:\n",
        "\n",
        "-> Renda nacional bruta\n",
        "\n",
        "-> População Adulta "
      ]
    },
    {
      "cell_type": "code",
      "metadata": {
        "id": "IbkfET8dUPQ8"
      },
      "source": [
        "import pandas as pd\n",
        "import numpy as np\n",
        "import matplotlib.pyplot as plt\n",
        "import seaborn as sns\n",
        "%matplotlib inline "
      ],
      "execution_count": 1,
      "outputs": []
    },
    {
      "cell_type": "code",
      "metadata": {
        "id": "t1JqALL2LDzS"
      },
      "source": [
        "GNI_BR = pd.read_excel('Gross national income.xlsx')\n",
        "ConsumoDeCapital = pd.read_excel('Consumo de Capital fixo.xlsx')\n",
        "PopAdult = pd.read_excel('População Adulta.xlsx')"
      ],
      "execution_count": 2,
      "outputs": []
    },
    {
      "cell_type": "markdown",
      "metadata": {
        "id": "ZxfxhcJIP1od"
      },
      "source": [
        "# Tratamento dos dados"
      ]
    },
    {
      "cell_type": "code",
      "metadata": {
        "colab": {
          "base_uri": "https://localhost:8080/",
          "height": 206
        },
        "id": "cDXPf8vgO7C9",
        "outputId": "252d51af-bad7-4596-bb28-45291eab44a3"
      },
      "source": [
        "GNI_BR = GNI_BR.rename(columns={'value':'RNB'})\n",
        "GNI_BR.drop(columns=['shortname'],inplace=True)\n",
        "GNI_BR.head()"
      ],
      "execution_count": 3,
      "outputs": [
        {
          "output_type": "execute_result",
          "data": {
            "text/html": [
              "<div>\n",
              "<style scoped>\n",
              "    .dataframe tbody tr th:only-of-type {\n",
              "        vertical-align: middle;\n",
              "    }\n",
              "\n",
              "    .dataframe tbody tr th {\n",
              "        vertical-align: top;\n",
              "    }\n",
              "\n",
              "    .dataframe thead th {\n",
              "        text-align: right;\n",
              "    }\n",
              "</style>\n",
              "<table border=\"1\" class=\"dataframe\">\n",
              "  <thead>\n",
              "    <tr style=\"text-align: right;\">\n",
              "      <th></th>\n",
              "      <th>country</th>\n",
              "      <th>year</th>\n",
              "      <th>RNB</th>\n",
              "    </tr>\n",
              "  </thead>\n",
              "  <tbody>\n",
              "    <tr>\n",
              "      <th>0</th>\n",
              "      <td>BR</td>\n",
              "      <td>1950</td>\n",
              "      <td>15444.4</td>\n",
              "    </tr>\n",
              "    <tr>\n",
              "      <th>1</th>\n",
              "      <td>BR</td>\n",
              "      <td>1951</td>\n",
              "      <td>15764.0</td>\n",
              "    </tr>\n",
              "    <tr>\n",
              "      <th>2</th>\n",
              "      <td>BR</td>\n",
              "      <td>1952</td>\n",
              "      <td>16265.5</td>\n",
              "    </tr>\n",
              "    <tr>\n",
              "      <th>3</th>\n",
              "      <td>BR</td>\n",
              "      <td>1953</td>\n",
              "      <td>16611.5</td>\n",
              "    </tr>\n",
              "    <tr>\n",
              "      <th>4</th>\n",
              "      <td>BR</td>\n",
              "      <td>1954</td>\n",
              "      <td>17251.5</td>\n",
              "    </tr>\n",
              "  </tbody>\n",
              "</table>\n",
              "</div>"
            ],
            "text/plain": [
              "  country  year      RNB\n",
              "0      BR  1950  15444.4\n",
              "1      BR  1951  15764.0\n",
              "2      BR  1952  16265.5\n",
              "3      BR  1953  16611.5\n",
              "4      BR  1954  17251.5"
            ]
          },
          "metadata": {},
          "execution_count": 3
        }
      ]
    },
    {
      "cell_type": "code",
      "metadata": {
        "colab": {
          "base_uri": "https://localhost:8080/",
          "height": 206
        },
        "id": "kTL42LMeW_Qq",
        "outputId": "598adbea-bde8-4569-c177-63380067cd34"
      },
      "source": [
        "ConsumoDeCapital = ConsumoDeCapital.rename(columns={'value':'ConsumoDeCapital'})\n",
        "ConsumoDeCapital.drop(columns=['Shortname'],inplace=True)\n",
        "ConsumoDeCapital.head()"
      ],
      "execution_count": 4,
      "outputs": [
        {
          "output_type": "execute_result",
          "data": {
            "text/html": [
              "<div>\n",
              "<style scoped>\n",
              "    .dataframe tbody tr th:only-of-type {\n",
              "        vertical-align: middle;\n",
              "    }\n",
              "\n",
              "    .dataframe tbody tr th {\n",
              "        vertical-align: top;\n",
              "    }\n",
              "\n",
              "    .dataframe thead th {\n",
              "        text-align: right;\n",
              "    }\n",
              "</style>\n",
              "<table border=\"1\" class=\"dataframe\">\n",
              "  <thead>\n",
              "    <tr style=\"text-align: right;\">\n",
              "      <th></th>\n",
              "      <th>country</th>\n",
              "      <th>year</th>\n",
              "      <th>ConsumoDeCapital</th>\n",
              "    </tr>\n",
              "  </thead>\n",
              "  <tbody>\n",
              "    <tr>\n",
              "      <th>0</th>\n",
              "      <td>BR</td>\n",
              "      <td>1950</td>\n",
              "      <td>662.1</td>\n",
              "    </tr>\n",
              "    <tr>\n",
              "      <th>1</th>\n",
              "      <td>BR</td>\n",
              "      <td>1951</td>\n",
              "      <td>680.7</td>\n",
              "    </tr>\n",
              "    <tr>\n",
              "      <th>2</th>\n",
              "      <td>BR</td>\n",
              "      <td>1952</td>\n",
              "      <td>700.4</td>\n",
              "    </tr>\n",
              "    <tr>\n",
              "      <th>3</th>\n",
              "      <td>BR</td>\n",
              "      <td>1953</td>\n",
              "      <td>721.8</td>\n",
              "    </tr>\n",
              "    <tr>\n",
              "      <th>4</th>\n",
              "      <td>BR</td>\n",
              "      <td>1954</td>\n",
              "      <td>745.8</td>\n",
              "    </tr>\n",
              "  </tbody>\n",
              "</table>\n",
              "</div>"
            ],
            "text/plain": [
              "  country  year  ConsumoDeCapital\n",
              "0      BR  1950             662.1\n",
              "1      BR  1951             680.7\n",
              "2      BR  1952             700.4\n",
              "3      BR  1953             721.8\n",
              "4      BR  1954             745.8"
            ]
          },
          "metadata": {},
          "execution_count": 4
        }
      ]
    },
    {
      "cell_type": "code",
      "metadata": {
        "colab": {
          "base_uri": "https://localhost:8080/",
          "height": 206
        },
        "id": "uELhNiNdQ_Yr",
        "outputId": "60551710-9f81-4dca-bdf9-f406ea1ff44a"
      },
      "source": [
        "PopAdult = PopAdult.rename(columns={'value':'PopAdulta'})\n",
        "PopAdult.drop(columns=['Shortname'],inplace=True)\n",
        "PopAdult.head()"
      ],
      "execution_count": 5,
      "outputs": [
        {
          "output_type": "execute_result",
          "data": {
            "text/html": [
              "<div>\n",
              "<style scoped>\n",
              "    .dataframe tbody tr th:only-of-type {\n",
              "        vertical-align: middle;\n",
              "    }\n",
              "\n",
              "    .dataframe tbody tr th {\n",
              "        vertical-align: top;\n",
              "    }\n",
              "\n",
              "    .dataframe thead th {\n",
              "        text-align: right;\n",
              "    }\n",
              "</style>\n",
              "<table border=\"1\" class=\"dataframe\">\n",
              "  <thead>\n",
              "    <tr style=\"text-align: right;\">\n",
              "      <th></th>\n",
              "      <th>country</th>\n",
              "      <th>year</th>\n",
              "      <th>PopAdulta</th>\n",
              "    </tr>\n",
              "  </thead>\n",
              "  <tbody>\n",
              "    <tr>\n",
              "      <th>0</th>\n",
              "      <td>BR</td>\n",
              "      <td>1950</td>\n",
              "      <td>26138182.0</td>\n",
              "    </tr>\n",
              "    <tr>\n",
              "      <th>1</th>\n",
              "      <td>BR</td>\n",
              "      <td>1951</td>\n",
              "      <td>26830918.0</td>\n",
              "    </tr>\n",
              "    <tr>\n",
              "      <th>2</th>\n",
              "      <td>BR</td>\n",
              "      <td>1952</td>\n",
              "      <td>27551936.0</td>\n",
              "    </tr>\n",
              "    <tr>\n",
              "      <th>3</th>\n",
              "      <td>BR</td>\n",
              "      <td>1953</td>\n",
              "      <td>28277184.0</td>\n",
              "    </tr>\n",
              "    <tr>\n",
              "      <th>4</th>\n",
              "      <td>BR</td>\n",
              "      <td>1954</td>\n",
              "      <td>29029772.0</td>\n",
              "    </tr>\n",
              "  </tbody>\n",
              "</table>\n",
              "</div>"
            ],
            "text/plain": [
              "  country  year   PopAdulta\n",
              "0      BR  1950  26138182.0\n",
              "1      BR  1951  26830918.0\n",
              "2      BR  1952  27551936.0\n",
              "3      BR  1953  28277184.0\n",
              "4      BR  1954  29029772.0"
            ]
          },
          "metadata": {},
          "execution_count": 5
        }
      ]
    },
    {
      "cell_type": "code",
      "metadata": {
        "colab": {
          "base_uri": "https://localhost:8080/",
          "height": 206
        },
        "id": "sh74d2g8Rvfc",
        "outputId": "a101e97f-caed-45bc-c6f8-137e93a979c7"
      },
      "source": [
        "Brasa = pd.merge(GNI_BR,PopAdult,how='left',on=['country','year'])\n",
        "Brasa.head()"
      ],
      "execution_count": 6,
      "outputs": [
        {
          "output_type": "execute_result",
          "data": {
            "text/html": [
              "<div>\n",
              "<style scoped>\n",
              "    .dataframe tbody tr th:only-of-type {\n",
              "        vertical-align: middle;\n",
              "    }\n",
              "\n",
              "    .dataframe tbody tr th {\n",
              "        vertical-align: top;\n",
              "    }\n",
              "\n",
              "    .dataframe thead th {\n",
              "        text-align: right;\n",
              "    }\n",
              "</style>\n",
              "<table border=\"1\" class=\"dataframe\">\n",
              "  <thead>\n",
              "    <tr style=\"text-align: right;\">\n",
              "      <th></th>\n",
              "      <th>country</th>\n",
              "      <th>year</th>\n",
              "      <th>RNB</th>\n",
              "      <th>PopAdulta</th>\n",
              "    </tr>\n",
              "  </thead>\n",
              "  <tbody>\n",
              "    <tr>\n",
              "      <th>0</th>\n",
              "      <td>BR</td>\n",
              "      <td>1950</td>\n",
              "      <td>15444.4</td>\n",
              "      <td>26138182.0</td>\n",
              "    </tr>\n",
              "    <tr>\n",
              "      <th>1</th>\n",
              "      <td>BR</td>\n",
              "      <td>1951</td>\n",
              "      <td>15764.0</td>\n",
              "      <td>26830918.0</td>\n",
              "    </tr>\n",
              "    <tr>\n",
              "      <th>2</th>\n",
              "      <td>BR</td>\n",
              "      <td>1952</td>\n",
              "      <td>16265.5</td>\n",
              "      <td>27551936.0</td>\n",
              "    </tr>\n",
              "    <tr>\n",
              "      <th>3</th>\n",
              "      <td>BR</td>\n",
              "      <td>1953</td>\n",
              "      <td>16611.5</td>\n",
              "      <td>28277184.0</td>\n",
              "    </tr>\n",
              "    <tr>\n",
              "      <th>4</th>\n",
              "      <td>BR</td>\n",
              "      <td>1954</td>\n",
              "      <td>17251.5</td>\n",
              "      <td>29029772.0</td>\n",
              "    </tr>\n",
              "  </tbody>\n",
              "</table>\n",
              "</div>"
            ],
            "text/plain": [
              "  country  year      RNB   PopAdulta\n",
              "0      BR  1950  15444.4  26138182.0\n",
              "1      BR  1951  15764.0  26830918.0\n",
              "2      BR  1952  16265.5  27551936.0\n",
              "3      BR  1953  16611.5  28277184.0\n",
              "4      BR  1954  17251.5  29029772.0"
            ]
          },
          "metadata": {},
          "execution_count": 6
        }
      ]
    },
    {
      "cell_type": "code",
      "metadata": {
        "colab": {
          "base_uri": "https://localhost:8080/",
          "height": 206
        },
        "id": "gZ1oF_XkDwxz",
        "outputId": "a354d34e-f135-4d0d-f489-e6f1114e7a3e"
      },
      "source": [
        "Brasa = pd.merge(Brasa,ConsumoDeCapital,how='left',on=['country','year'])\n",
        "Brasa.head()\n",
        "\n"
      ],
      "execution_count": 9,
      "outputs": [
        {
          "output_type": "execute_result",
          "data": {
            "text/html": [
              "<div>\n",
              "<style scoped>\n",
              "    .dataframe tbody tr th:only-of-type {\n",
              "        vertical-align: middle;\n",
              "    }\n",
              "\n",
              "    .dataframe tbody tr th {\n",
              "        vertical-align: top;\n",
              "    }\n",
              "\n",
              "    .dataframe thead th {\n",
              "        text-align: right;\n",
              "    }\n",
              "</style>\n",
              "<table border=\"1\" class=\"dataframe\">\n",
              "  <thead>\n",
              "    <tr style=\"text-align: right;\">\n",
              "      <th></th>\n",
              "      <th>country</th>\n",
              "      <th>year</th>\n",
              "      <th>RNB</th>\n",
              "      <th>PopAdulta</th>\n",
              "      <th>ConsumoDeCapital</th>\n",
              "    </tr>\n",
              "  </thead>\n",
              "  <tbody>\n",
              "    <tr>\n",
              "      <th>0</th>\n",
              "      <td>BR</td>\n",
              "      <td>1950</td>\n",
              "      <td>15444.4</td>\n",
              "      <td>26138182.0</td>\n",
              "      <td>662.1</td>\n",
              "    </tr>\n",
              "    <tr>\n",
              "      <th>1</th>\n",
              "      <td>BR</td>\n",
              "      <td>1951</td>\n",
              "      <td>15764.0</td>\n",
              "      <td>26830918.0</td>\n",
              "      <td>680.7</td>\n",
              "    </tr>\n",
              "    <tr>\n",
              "      <th>2</th>\n",
              "      <td>BR</td>\n",
              "      <td>1952</td>\n",
              "      <td>16265.5</td>\n",
              "      <td>27551936.0</td>\n",
              "      <td>700.4</td>\n",
              "    </tr>\n",
              "    <tr>\n",
              "      <th>3</th>\n",
              "      <td>BR</td>\n",
              "      <td>1953</td>\n",
              "      <td>16611.5</td>\n",
              "      <td>28277184.0</td>\n",
              "      <td>721.8</td>\n",
              "    </tr>\n",
              "    <tr>\n",
              "      <th>4</th>\n",
              "      <td>BR</td>\n",
              "      <td>1954</td>\n",
              "      <td>17251.5</td>\n",
              "      <td>29029772.0</td>\n",
              "      <td>745.8</td>\n",
              "    </tr>\n",
              "  </tbody>\n",
              "</table>\n",
              "</div>"
            ],
            "text/plain": [
              "  country  year      RNB   PopAdulta  ConsumoDeCapital\n",
              "0      BR  1950  15444.4  26138182.0             662.1\n",
              "1      BR  1951  15764.0  26830918.0             680.7\n",
              "2      BR  1952  16265.5  27551936.0             700.4\n",
              "3      BR  1953  16611.5  28277184.0             721.8\n",
              "4      BR  1954  17251.5  29029772.0             745.8"
            ]
          },
          "metadata": {},
          "execution_count": 9
        }
      ]
    },
    {
      "cell_type": "markdown",
      "metadata": {
        "id": "jayMQ5-jUv-i"
      },
      "source": [
        "# **Primeira Pergunta:**\n",
        "\n",
        "O crescimento da renda nacional bruta acompanha o crescimento da população adulta?"
      ]
    },
    {
      "cell_type": "code",
      "metadata": {
        "colab": {
          "base_uri": "https://localhost:8080/",
          "height": 420
        },
        "id": "fww9lhGYS2wN",
        "outputId": "bcd03cc3-ec7b-445b-b72b-31c056e3fa88"
      },
      "source": [
        "plt.figure(figsize=(12,6))\n",
        "\n",
        "sns.lineplot(x=Brasa.year, y=Brasa.PopAdulta, label='População')\n",
        "sns.lineplot(x=Brasa.year, y=Brasa.RNB, label='Renda Nacional Bruta')\n",
        "\n",
        "plt.title('Brasil: População Adulta x Renda Nacional Bruta', fontsize=14)\n",
        "plt.legend()\n",
        "plt.xticks(rotation=90)\n",
        "plt.show()"
      ],
      "execution_count": 10,
      "outputs": [
        {
          "output_type": "display_data",
          "data": {
            "image/png": "[encoded data removed]",
            "text/plain": [
              "<Figure size 864x432 with 1 Axes>"
            ]
          },
          "metadata": {
            "needs_background": "light"
          }
        }
      ]
    },
    {
      "cell_type": "markdown",
      "metadata": {
        "id": "yJ0eVh-1T5KV"
      },
      "source": [
        "Com essa primeira análise podemos ver que o crescimento da população foi muito maior do que o crescimento da renda nacional bruta, porém, como os gráficos estão em escalas diferentes, essa primeira visualização pode ser errônea, vamos ajustar os gráficos e fazer uma análise logarítmica."
      ]
    },
    {
      "cell_type": "code",
      "metadata": {
        "colab": {
          "base_uri": "https://localhost:8080/",
          "height": 420
        },
        "id": "0T1PCTYlUJTW",
        "outputId": "02f0858d-fd58-45bd-8798-7c8b65ff0d90"
      },
      "source": [
        "plt.figure(figsize=(12,6))\n",
        "\n",
        "sns.lineplot(x=Brasa.year, y=np.log(Brasa.PopAdulta), label='População')\n",
        "sns.lineplot(x=Brasa.year, y=np.log(Brasa.RNB), label='Renda Nacional Bruta')\n",
        "\n",
        "plt.title('Brasil: População Adulta x Renda Nacional Bruta', fontsize=14)\n",
        "plt.legend()\n",
        "plt.xticks(rotation=90)\n",
        "plt.show()"
      ],
      "execution_count": 11,
      "outputs": [
        {
          "output_type": "display_data",
          "data": {
            "image/png": "[encoded data removed]",
            "text/plain": [
              "<Figure size 864x432 with 1 Axes>"
            ]
          },
          "metadata": {
            "needs_background": "light"
          }
        }
      ]
    },
    {
      "cell_type": "markdown",
      "metadata": {
        "id": "sjF6j9ApU_S8"
      },
      "source": [
        "**Conclusão**\n",
        "\n",
        "Com essa análise podemos perceber uma correlação muito alta entre o crescimento da população adulta e o crescimento da renda nacional bruta. Não podemos indicar 100% causalidade, porém faz todo sentido, aumento da população adulta, mais pessoas trabalhando, aumento da renda nacional bruta do país."
      ]
    },
    {
      "cell_type": "markdown",
      "metadata": {
        "id": "BqKgcfxQXdEw"
      },
      "source": [
        "# **Segunda Pergunta:**\n",
        "Qual foi o crescimento da população ao longo da amostra?\n",
        "\n",
        "\n"
      ]
    },
    {
      "cell_type": "code",
      "metadata": {
        "colab": {
          "base_uri": "https://localhost:8080/",
          "height": 420
        },
        "id": "8fIuG9bKa2rp",
        "outputId": "7d6b5ccf-acf5-4cc5-bdb1-f8f6aae39b50"
      },
      "source": [
        "plt.figure(figsize=(12,6))\n",
        "\n",
        "sns.lineplot(x=Brasa.year, y=Brasa.PopAdulta, label='População')\n",
        "\n",
        "plt.title('Brasil: Aumento da população brasileira', fontsize=14)\n",
        "plt.legend()\n",
        "plt.xticks(rotation=90)\n",
        "plt.show()"
      ],
      "execution_count": 12,
      "outputs": [
        {
          "output_type": "display_data",
          "data": {
            "image/png": "[encoded data removed]",
            "text/plain": [
              "<Figure size 864x432 with 1 Axes>"
            ]
          },
          "metadata": {
            "needs_background": "light"
          }
        }
      ]
    },
    {
      "cell_type": "code",
      "metadata": {
        "colab": {
          "base_uri": "https://localhost:8080/",
          "height": 206
        },
        "id": "uRyF_eMfab3S",
        "outputId": "97402b0a-6298-4c0b-ab98-df69e63b58e0"
      },
      "source": [
        "PopAdult.head()"
      ],
      "execution_count": 16,
      "outputs": [
        {
          "output_type": "execute_result",
          "data": {
            "text/html": [
              "<div>\n",
              "<style scoped>\n",
              "    .dataframe tbody tr th:only-of-type {\n",
              "        vertical-align: middle;\n",
              "    }\n",
              "\n",
              "    .dataframe tbody tr th {\n",
              "        vertical-align: top;\n",
              "    }\n",
              "\n",
              "    .dataframe thead th {\n",
              "        text-align: right;\n",
              "    }\n",
              "</style>\n",
              "<table border=\"1\" class=\"dataframe\">\n",
              "  <thead>\n",
              "    <tr style=\"text-align: right;\">\n",
              "      <th></th>\n",
              "      <th>country</th>\n",
              "      <th>year</th>\n",
              "      <th>PopAdulta</th>\n",
              "    </tr>\n",
              "  </thead>\n",
              "  <tbody>\n",
              "    <tr>\n",
              "      <th>0</th>\n",
              "      <td>BR</td>\n",
              "      <td>1950</td>\n",
              "      <td>26138182.0</td>\n",
              "    </tr>\n",
              "    <tr>\n",
              "      <th>1</th>\n",
              "      <td>BR</td>\n",
              "      <td>1951</td>\n",
              "      <td>26830918.0</td>\n",
              "    </tr>\n",
              "    <tr>\n",
              "      <th>2</th>\n",
              "      <td>BR</td>\n",
              "      <td>1952</td>\n",
              "      <td>27551936.0</td>\n",
              "    </tr>\n",
              "    <tr>\n",
              "      <th>3</th>\n",
              "      <td>BR</td>\n",
              "      <td>1953</td>\n",
              "      <td>28277184.0</td>\n",
              "    </tr>\n",
              "    <tr>\n",
              "      <th>4</th>\n",
              "      <td>BR</td>\n",
              "      <td>1954</td>\n",
              "      <td>29029772.0</td>\n",
              "    </tr>\n",
              "  </tbody>\n",
              "</table>\n",
              "</div>"
            ],
            "text/plain": [
              "  country  year   PopAdulta\n",
              "0      BR  1950  26138182.0\n",
              "1      BR  1951  26830918.0\n",
              "2      BR  1952  27551936.0\n",
              "3      BR  1953  28277184.0\n",
              "4      BR  1954  29029772.0"
            ]
          },
          "metadata": {},
          "execution_count": 16
        }
      ]
    },
    {
      "cell_type": "code",
      "metadata": {
        "colab": {
          "base_uri": "https://localhost:8080/",
          "height": 206
        },
        "id": "E0cKVbgPYMXq",
        "outputId": "3e6e8457-6fdc-4054-e157-573d22cb1ce1"
      },
      "source": [
        "PopAdult.tail()"
      ],
      "execution_count": 17,
      "outputs": [
        {
          "output_type": "execute_result",
          "data": {
            "text/html": [
              "<div>\n",
              "<style scoped>\n",
              "    .dataframe tbody tr th:only-of-type {\n",
              "        vertical-align: middle;\n",
              "    }\n",
              "\n",
              "    .dataframe tbody tr th {\n",
              "        vertical-align: top;\n",
              "    }\n",
              "\n",
              "    .dataframe thead th {\n",
              "        text-align: right;\n",
              "    }\n",
              "</style>\n",
              "<table border=\"1\" class=\"dataframe\">\n",
              "  <thead>\n",
              "    <tr style=\"text-align: right;\">\n",
              "      <th></th>\n",
              "      <th>country</th>\n",
              "      <th>year</th>\n",
              "      <th>PopAdulta</th>\n",
              "    </tr>\n",
              "  </thead>\n",
              "  <tbody>\n",
              "    <tr>\n",
              "      <th>65</th>\n",
              "      <td>BR</td>\n",
              "      <td>2015</td>\n",
              "      <td>141373696.0</td>\n",
              "    </tr>\n",
              "    <tr>\n",
              "      <th>66</th>\n",
              "      <td>BR</td>\n",
              "      <td>2016</td>\n",
              "      <td>143572000.0</td>\n",
              "    </tr>\n",
              "    <tr>\n",
              "      <th>67</th>\n",
              "      <td>BR</td>\n",
              "      <td>2017</td>\n",
              "      <td>145811792.0</td>\n",
              "    </tr>\n",
              "    <tr>\n",
              "      <th>68</th>\n",
              "      <td>BR</td>\n",
              "      <td>2018</td>\n",
              "      <td>148048880.0</td>\n",
              "    </tr>\n",
              "    <tr>\n",
              "      <th>69</th>\n",
              "      <td>BR</td>\n",
              "      <td>2019</td>\n",
              "      <td>150228224.0</td>\n",
              "    </tr>\n",
              "  </tbody>\n",
              "</table>\n",
              "</div>"
            ],
            "text/plain": [
              "   country  year    PopAdulta\n",
              "65      BR  2015  141373696.0\n",
              "66      BR  2016  143572000.0\n",
              "67      BR  2017  145811792.0\n",
              "68      BR  2018  148048880.0\n",
              "69      BR  2019  150228224.0"
            ]
          },
          "metadata": {},
          "execution_count": 17
        }
      ]
    },
    {
      "cell_type": "code",
      "metadata": {
        "id": "kf5MpXvUYjsi"
      },
      "source": [
        "Pop2019 = PopAdult.loc[69,'PopAdulta']\n",
        "Pop1950 = PopAdult.loc[0,'PopAdulta']"
      ],
      "execution_count": 19,
      "outputs": []
    },
    {
      "cell_type": "code",
      "metadata": {
        "colab": {
          "base_uri": "https://localhost:8080/"
        },
        "id": "BsZICaAOY-Yr",
        "outputId": "f7103ae6-dd24-4e85-c050-6a5a3108ebbf"
      },
      "source": [
        "Aumento = Pop2019 - Pop1950\n",
        "print('A população brasileira aumentou {:0.0f} no número de habitantes'.format(Aumento))\n",
        "Porcent = (((Pop2019 / Pop1950))*100)\n",
        "print('Representando um aumento de {:0.2f}% de 2019 em relação a 1950.'.format(Porcent))"
      ],
      "execution_count": 20,
      "outputs": [
        {
          "output_type": "stream",
          "name": "stdout",
          "text": [
            "A população brasileira aumentou 124090042 no número de habitantes\n",
            "Representando um aumento de 574.75% de 2019 em relação a 1950.\n"
          ]
        }
      ]
    },
    {
      "cell_type": "markdown",
      "metadata": {
        "id": "c_JOAYU-EZFx"
      },
      "source": [
        "# **Terceira questão**\n",
        "\n",
        "Qual a relação entre as 3 váriaveis da planilha \"Brasa\"?\n"
      ]
    },
    {
      "cell_type": "code",
      "metadata": {
        "colab": {
          "base_uri": "https://localhost:8080/",
          "height": 420
        },
        "id": "vsQ3LaJ5EnIq",
        "outputId": "53dd22a6-5a35-4e14-8b48-706124df0b92"
      },
      "source": [
        "plt.figure(figsize=(12,6))\n",
        "\n",
        "for c in Brasa[['RNB','PopAdulta','ConsumoDeCapital']]:\n",
        "  sns.lineplot(x=Brasa.year, y=Brasa[c], label=c)\n",
        "\n",
        "plt.title('Brasil, Renda Nacional Bruta x População Adulta X Consumo de Capital', fontsize=14)\n",
        "plt.legend()\n",
        "plt.xticks(rotation=90)\n",
        "plt.show()"
      ],
      "execution_count": 22,
      "outputs": [
        {
          "output_type": "display_data",
          "data": {
            "image/png": "[encoded data removed]",
            "text/plain": [
              "<Figure size 864x432 with 1 Axes>"
            ]
          },
          "metadata": {
            "needs_background": "light"
          }
        }
      ]
    },
    {
      "cell_type": "markdown",
      "metadata": {
        "id": "EshGtx4eFCRA"
      },
      "source": [
        "Com essa primeira análise, não podemos ver muita variação, devido a grande diferença de escalas, para resolver esse problema vamos normalizar os dados e deixa-los na mesma escala\n"
      ]
    },
    {
      "cell_type": "code",
      "metadata": {
        "colab": {
          "base_uri": "https://localhost:8080/",
          "height": 206
        },
        "id": "RegLHmoAFOox",
        "outputId": "97b2d3fc-f2cb-42d0-9f15-83474ae50a59"
      },
      "source": [
        "for c in Brasa[['RNB','PopAdulta','ConsumoDeCapital']]:\n",
        "  Brasa[c] = Brasa[c] / Brasa[c].max()\n",
        "Brasa.head()"
      ],
      "execution_count": 24,
      "outputs": [
        {
          "output_type": "execute_result",
          "data": {
            "text/html": [
              "<div>\n",
              "<style scoped>\n",
              "    .dataframe tbody tr th:only-of-type {\n",
              "        vertical-align: middle;\n",
              "    }\n",
              "\n",
              "    .dataframe tbody tr th {\n",
              "        vertical-align: top;\n",
              "    }\n",
              "\n",
              "    .dataframe thead th {\n",
              "        text-align: right;\n",
              "    }\n",
              "</style>\n",
              "<table border=\"1\" class=\"dataframe\">\n",
              "  <thead>\n",
              "    <tr style=\"text-align: right;\">\n",
              "      <th></th>\n",
              "      <th>country</th>\n",
              "      <th>year</th>\n",
              "      <th>RNB</th>\n",
              "      <th>PopAdulta</th>\n",
              "      <th>ConsumoDeCapital</th>\n",
              "    </tr>\n",
              "  </thead>\n",
              "  <tbody>\n",
              "    <tr>\n",
              "      <th>0</th>\n",
              "      <td>BR</td>\n",
              "      <td>1950</td>\n",
              "      <td>0.290452</td>\n",
              "      <td>0.173990</td>\n",
              "      <td>0.152537</td>\n",
              "    </tr>\n",
              "    <tr>\n",
              "      <th>1</th>\n",
              "      <td>BR</td>\n",
              "      <td>1951</td>\n",
              "      <td>0.296462</td>\n",
              "      <td>0.178601</td>\n",
              "      <td>0.156822</td>\n",
              "    </tr>\n",
              "    <tr>\n",
              "      <th>2</th>\n",
              "      <td>BR</td>\n",
              "      <td>1952</td>\n",
              "      <td>0.305894</td>\n",
              "      <td>0.183401</td>\n",
              "      <td>0.161360</td>\n",
              "    </tr>\n",
              "    <tr>\n",
              "      <th>3</th>\n",
              "      <td>BR</td>\n",
              "      <td>1953</td>\n",
              "      <td>0.312401</td>\n",
              "      <td>0.188228</td>\n",
              "      <td>0.166290</td>\n",
              "    </tr>\n",
              "    <tr>\n",
              "      <th>4</th>\n",
              "      <td>BR</td>\n",
              "      <td>1954</td>\n",
              "      <td>0.324437</td>\n",
              "      <td>0.193238</td>\n",
              "      <td>0.171820</td>\n",
              "    </tr>\n",
              "  </tbody>\n",
              "</table>\n",
              "</div>"
            ],
            "text/plain": [
              "  country  year       RNB  PopAdulta  ConsumoDeCapital\n",
              "0      BR  1950  0.290452   0.173990          0.152537\n",
              "1      BR  1951  0.296462   0.178601          0.156822\n",
              "2      BR  1952  0.305894   0.183401          0.161360\n",
              "3      BR  1953  0.312401   0.188228          0.166290\n",
              "4      BR  1954  0.324437   0.193238          0.171820"
            ]
          },
          "metadata": {},
          "execution_count": 24
        }
      ]
    },
    {
      "cell_type": "code",
      "metadata": {
        "colab": {
          "base_uri": "https://localhost:8080/",
          "height": 420
        },
        "id": "f0LpnWRwFkLA",
        "outputId": "632123f6-9116-45db-aa24-33750fc0012a"
      },
      "source": [
        "plt.figure(figsize=(12,6))\n",
        "\n",
        "for c in Brasa[['RNB','PopAdulta','ConsumoDeCapital']]:\n",
        "  sns.lineplot(x=Brasa.year, y=Brasa[c], label=c)\n",
        "\n",
        "plt.title('Brasil, Renda Nacional Bruta x População Adulta X Consumo de Capital', fontsize=14)\n",
        "plt.legend()\n",
        "plt.xticks(rotation=90)\n",
        "plt.show()"
      ],
      "execution_count": 25,
      "outputs": [
        {
          "output_type": "display_data",
          "data": {
            "image/png": "[encoded data removed]",
            "text/plain": [
              "<Figure size 864x432 with 1 Axes>"
            ]
          },
          "metadata": {
            "needs_background": "light"
          }
        }
      ]
    },
    {
      "cell_type": "markdown",
      "metadata": {
        "id": "hdB1krAeFnSq"
      },
      "source": [
        "**Conclusão**\n",
        "\n",
        "Já com esse gráfico podemos ver uma correlação muito grande entre as variáveis, a população adulta sempre aumentando, já as outras duas, principalmente renda nacional bruta, com algumas \"soluções\" entre 1980 e 1990, porém com uma tendência de crescimento"
      ]
    },
    {
      "cell_type": "markdown",
      "metadata": {
        "id": "lykrxgDtGEtJ"
      },
      "source": [
        "# **Quarta questão**\n",
        "\n",
        "Qual a correlação entre as 3 variavéis analisadas?"
      ]
    },
    {
      "cell_type": "code",
      "metadata": {
        "colab": {
          "base_uri": "https://localhost:8080/",
          "height": 269
        },
        "id": "jWqHNm9zGMWB",
        "outputId": "f4e62a11-226d-4b2a-a373-6382b22df86a"
      },
      "source": [
        "sns.heatmap(Brasa[['RNB','PopAdulta','ConsumoDeCapital']].corr(),annot=True,linewidths=.5)\n",
        "\n",
        "plt.show()"
      ],
      "execution_count": 26,
      "outputs": [
        {
          "output_type": "display_data",
          "data": {
            "image/png": "[encoded data removed]",
            "text/plain": [
              "<Figure size 432x288 with 2 Axes>"
            ]
          },
          "metadata": {
            "needs_background": "light"
          }
        }
      ]
    },
    {
      "cell_type": "markdown",
      "metadata": {
        "id": "wXCsj399H9l5"
      },
      "source": [
        "**Conclusão**\n",
        "\n",
        "Conforme analisado no gráfico da terceira questão, podemos observar que a correlação entre Consumo de capital e Renda Nacional Bruta é maior do que a população adulta, isso explica muito o gráfico que vimos.\n",
        "Mais adultos, mais mão de obra de trabalho, aumenta da renda, aumento do consumo de capital. \n",
        "Como a população não diminui, existe alguns períodos em que a Renda diminuiu, trazendo o consumo de capital também para baixo."
      ]
    }
  ]
}