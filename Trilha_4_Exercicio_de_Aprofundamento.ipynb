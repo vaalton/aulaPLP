{
  "nbformat": 4,
  "nbformat_minor": 0,
  "metadata": {
    "colab": {
      "name": "Trilha 4 - Exercicio de Aprofundamento.ipynb",
      "provenance": []
    },
    "kernelspec": {
      "name": "python3",
      "display_name": "Python 3"
    },
    "language_info": {
      "name": "python"
    }
  },
  "cells": [
    {
      "cell_type": "markdown",
      "metadata": {
        "id": "g7gn93R1K66c"
      },
      "source": [
        "Link para acesso colab:\n",
        "https://colab.research.google.com/github/vaalton/aulaPLP/blob/main/Trilha_4_Exercicio_de_Aprofundamento.ipynb\n",
        "\n",
        "\n",
        "\n",
        "**Trilha 4 - Exercício de Aprofundamento**\n",
        "\n",
        "Aqui você vai empregar os conhecimentos aprendidos de Python para efetuar sua própria Análise de Dados. Empregue bases de dados extraídas de um ou ambos os sites abaixo:  \n",
        "\n",
        "a. https://wid.world/\n",
        "\n",
        "b. https://www.gapminder.org/\n",
        "\n",
        "O emprego de uma base formada por dados de ambos os sites é bastante enriquecedor mas não é obrigatório. Você pode empregar uma ou mais bases de um único site e deixar para estudar mais adiante merges e joins de tabelas com R. \n",
        "\n",
        "Faça uma Análise Exploratória dos Dados (EDA) com dados de seu interesse, empregando o Python e o que você aprendeu até aqui. Os sites apresentam diversos dados sobre as diferenças de desenvolvimento dos países e a desigualdade. Foque em perguntas que são do seu interesse sobre os dados.  \n",
        "\n",
        "Na sua análise você deve responder ao menos quatro perguntas relevantes sobre os dados, incluir na sua análise seleções e visualizações dos dados e um texto de conclusão a cada pergunta.  \n",
        "\n",
        "Peça ao professor modelos de código para sua implementação. \n",
        "\n",
        "Seu código deve ser minimamente claro e organizado. Não são necessários comentários detalhados, mas deixe claro no seu código cada parte (atividade), cada fase realizada e a resposta final com sua conclusão.  \n"
      ]
    },
    {
      "cell_type": "markdown",
      "metadata": {
        "id": "Yp8aEsdVPqif"
      },
      "source": [
        "# Importando as bases\n",
        "\n",
        "Busquei no WID 5 bases de dados com relação ao brasil:\n",
        "\n",
        "-> Renda nacional bruta\n",
        "\n",
        "-> População Adulta \n",
        "\n",
        "-> Consumo de capital fixo\n",
        "\n",
        "-> População entre 90 e 94 anos\n",
        "\n",
        "-> População entre 95 e 99 anos"
      ]
    },
    {
      "cell_type": "code",
      "metadata": {
        "id": "IbkfET8dUPQ8"
      },
      "source": [
        "import pandas as pd\n",
        "import numpy as np\n",
        "import matplotlib.pyplot as plt\n",
        "import seaborn as sns\n",
        "%matplotlib inline "
      ],
      "execution_count": 10,
      "outputs": []
    },
    {
      "cell_type": "code",
      "metadata": {
        "id": "t1JqALL2LDzS"
      },
      "source": [
        "GNI_BR = pd.read_excel('Gross national income.xlsx')\n",
        "ConsumoDeCapital = pd.read_excel('Consumo de Capital fixo.xlsx')\n",
        "PopAdult = pd.read_excel('População Adulta.xlsx')\n",
        "Pop90a94 = pd.read_excel('População 90 a 94.xlsx')\n",
        "Pop95a99 = pd.read_excel('População 95 a 99.xlsx')"
      ],
      "execution_count": 11,
      "outputs": []
    },
    {
      "cell_type": "markdown",
      "metadata": {
        "id": "ZxfxhcJIP1od"
      },
      "source": [
        "# Tratamento dos dados\n",
        "\n",
        "Tratamento para que os dataframes fiquem no mesmo padrão possibilitando um merge"
      ]
    },
    {
      "cell_type": "code",
      "metadata": {
        "colab": {
          "base_uri": "https://localhost:8080/",
          "height": 206
        },
        "id": "cDXPf8vgO7C9",
        "outputId": "d6d2d9b6-023d-495d-9545-e558b069918b"
      },
      "source": [
        "GNI_BR = GNI_BR.rename(columns={'value':'RNB'})\n",
        "GNI_BR.drop(columns=['shortname'],inplace=True)\n",
        "GNI_BR.head()"
      ],
      "execution_count": 12,
      "outputs": [
        {
          "output_type": "execute_result",
          "data": {
            "text/html": [
              "<div>\n",
              "<style scoped>\n",
              "    .dataframe tbody tr th:only-of-type {\n",
              "        vertical-align: middle;\n",
              "    }\n",
              "\n",
              "    .dataframe tbody tr th {\n",
              "        vertical-align: top;\n",
              "    }\n",
              "\n",
              "    .dataframe thead th {\n",
              "        text-align: right;\n",
              "    }\n",
              "</style>\n",
              "<table border=\"1\" class=\"dataframe\">\n",
              "  <thead>\n",
              "    <tr style=\"text-align: right;\">\n",
              "      <th></th>\n",
              "      <th>country</th>\n",
              "      <th>year</th>\n",
              "      <th>RNB</th>\n",
              "    </tr>\n",
              "  </thead>\n",
              "  <tbody>\n",
              "    <tr>\n",
              "      <th>0</th>\n",
              "      <td>BR</td>\n",
              "      <td>1950</td>\n",
              "      <td>15444.4</td>\n",
              "    </tr>\n",
              "    <tr>\n",
              "      <th>1</th>\n",
              "      <td>BR</td>\n",
              "      <td>1951</td>\n",
              "      <td>15764.0</td>\n",
              "    </tr>\n",
              "    <tr>\n",
              "      <th>2</th>\n",
              "      <td>BR</td>\n",
              "      <td>1952</td>\n",
              "      <td>16265.5</td>\n",
              "    </tr>\n",
              "    <tr>\n",
              "      <th>3</th>\n",
              "      <td>BR</td>\n",
              "      <td>1953</td>\n",
              "      <td>16611.5</td>\n",
              "    </tr>\n",
              "    <tr>\n",
              "      <th>4</th>\n",
              "      <td>BR</td>\n",
              "      <td>1954</td>\n",
              "      <td>17251.5</td>\n",
              "    </tr>\n",
              "  </tbody>\n",
              "</table>\n",
              "</div>"
            ],
            "text/plain": [
              "  country  year      RNB\n",
              "0      BR  1950  15444.4\n",
              "1      BR  1951  15764.0\n",
              "2      BR  1952  16265.5\n",
              "3      BR  1953  16611.5\n",
              "4      BR  1954  17251.5"
            ]
          },
          "metadata": {},
          "execution_count": 12
        }
      ]
    },
    {
      "cell_type": "code",
      "metadata": {
        "colab": {
          "base_uri": "https://localhost:8080/",
          "height": 206
        },
        "id": "kTL42LMeW_Qq",
        "outputId": "b57be69e-cdf8-4ed3-aaea-e1b817d43602"
      },
      "source": [
        "ConsumoDeCapital = ConsumoDeCapital.rename(columns={'value':'ConsumoDeCapital'})\n",
        "ConsumoDeCapital.drop(columns=['Shortname'],inplace=True)\n",
        "ConsumoDeCapital.head()"
      ],
      "execution_count": 13,
      "outputs": [
        {
          "output_type": "execute_result",
          "data": {
            "text/html": [
              "<div>\n",
              "<style scoped>\n",
              "    .dataframe tbody tr th:only-of-type {\n",
              "        vertical-align: middle;\n",
              "    }\n",
              "\n",
              "    .dataframe tbody tr th {\n",
              "        vertical-align: top;\n",
              "    }\n",
              "\n",
              "    .dataframe thead th {\n",
              "        text-align: right;\n",
              "    }\n",
              "</style>\n",
              "<table border=\"1\" class=\"dataframe\">\n",
              "  <thead>\n",
              "    <tr style=\"text-align: right;\">\n",
              "      <th></th>\n",
              "      <th>country</th>\n",
              "      <th>year</th>\n",
              "      <th>ConsumoDeCapital</th>\n",
              "    </tr>\n",
              "  </thead>\n",
              "  <tbody>\n",
              "    <tr>\n",
              "      <th>0</th>\n",
              "      <td>BR</td>\n",
              "      <td>1950</td>\n",
              "      <td>662.1</td>\n",
              "    </tr>\n",
              "    <tr>\n",
              "      <th>1</th>\n",
              "      <td>BR</td>\n",
              "      <td>1951</td>\n",
              "      <td>680.7</td>\n",
              "    </tr>\n",
              "    <tr>\n",
              "      <th>2</th>\n",
              "      <td>BR</td>\n",
              "      <td>1952</td>\n",
              "      <td>700.4</td>\n",
              "    </tr>\n",
              "    <tr>\n",
              "      <th>3</th>\n",
              "      <td>BR</td>\n",
              "      <td>1953</td>\n",
              "      <td>721.8</td>\n",
              "    </tr>\n",
              "    <tr>\n",
              "      <th>4</th>\n",
              "      <td>BR</td>\n",
              "      <td>1954</td>\n",
              "      <td>745.8</td>\n",
              "    </tr>\n",
              "  </tbody>\n",
              "</table>\n",
              "</div>"
            ],
            "text/plain": [
              "  country  year  ConsumoDeCapital\n",
              "0      BR  1950             662.1\n",
              "1      BR  1951             680.7\n",
              "2      BR  1952             700.4\n",
              "3      BR  1953             721.8\n",
              "4      BR  1954             745.8"
            ]
          },
          "metadata": {},
          "execution_count": 13
        }
      ]
    },
    {
      "cell_type": "code",
      "metadata": {
        "colab": {
          "base_uri": "https://localhost:8080/",
          "height": 206
        },
        "id": "uELhNiNdQ_Yr",
        "outputId": "386e319e-c6e7-40e0-8446-07ca4f3cfed4"
      },
      "source": [
        "PopAdult = PopAdult.rename(columns={'value':'PopAdulta'})\n",
        "PopAdult.drop(columns=['Shortname'],inplace=True)\n",
        "PopAdult.head()"
      ],
      "execution_count": 14,
      "outputs": [
        {
          "output_type": "execute_result",
          "data": {
            "text/html": [
              "<div>\n",
              "<style scoped>\n",
              "    .dataframe tbody tr th:only-of-type {\n",
              "        vertical-align: middle;\n",
              "    }\n",
              "\n",
              "    .dataframe tbody tr th {\n",
              "        vertical-align: top;\n",
              "    }\n",
              "\n",
              "    .dataframe thead th {\n",
              "        text-align: right;\n",
              "    }\n",
              "</style>\n",
              "<table border=\"1\" class=\"dataframe\">\n",
              "  <thead>\n",
              "    <tr style=\"text-align: right;\">\n",
              "      <th></th>\n",
              "      <th>country</th>\n",
              "      <th>year</th>\n",
              "      <th>PopAdulta</th>\n",
              "    </tr>\n",
              "  </thead>\n",
              "  <tbody>\n",
              "    <tr>\n",
              "      <th>0</th>\n",
              "      <td>BR</td>\n",
              "      <td>1950</td>\n",
              "      <td>26138182.0</td>\n",
              "    </tr>\n",
              "    <tr>\n",
              "      <th>1</th>\n",
              "      <td>BR</td>\n",
              "      <td>1951</td>\n",
              "      <td>26830918.0</td>\n",
              "    </tr>\n",
              "    <tr>\n",
              "      <th>2</th>\n",
              "      <td>BR</td>\n",
              "      <td>1952</td>\n",
              "      <td>27551936.0</td>\n",
              "    </tr>\n",
              "    <tr>\n",
              "      <th>3</th>\n",
              "      <td>BR</td>\n",
              "      <td>1953</td>\n",
              "      <td>28277184.0</td>\n",
              "    </tr>\n",
              "    <tr>\n",
              "      <th>4</th>\n",
              "      <td>BR</td>\n",
              "      <td>1954</td>\n",
              "      <td>29029772.0</td>\n",
              "    </tr>\n",
              "  </tbody>\n",
              "</table>\n",
              "</div>"
            ],
            "text/plain": [
              "  country  year   PopAdulta\n",
              "0      BR  1950  26138182.0\n",
              "1      BR  1951  26830918.0\n",
              "2      BR  1952  27551936.0\n",
              "3      BR  1953  28277184.0\n",
              "4      BR  1954  29029772.0"
            ]
          },
          "metadata": {},
          "execution_count": 14
        }
      ]
    },
    {
      "cell_type": "code",
      "metadata": {
        "id": "70BAXAYU2azD",
        "outputId": "3db75013-4603-43ba-a7ba-d89222c16f88",
        "colab": {
          "base_uri": "https://localhost:8080/",
          "height": 206
        }
      },
      "source": [
        "Pop90a94 = Pop90a94.rename(columns={'value':'Pop90a94'})\n",
        "Pop90a94.drop(columns=['Shortname'],inplace=True)\n",
        "Pop90a94.head()"
      ],
      "execution_count": 15,
      "outputs": [
        {
          "output_type": "execute_result",
          "data": {
            "text/html": [
              "<div>\n",
              "<style scoped>\n",
              "    .dataframe tbody tr th:only-of-type {\n",
              "        vertical-align: middle;\n",
              "    }\n",
              "\n",
              "    .dataframe tbody tr th {\n",
              "        vertical-align: top;\n",
              "    }\n",
              "\n",
              "    .dataframe thead th {\n",
              "        text-align: right;\n",
              "    }\n",
              "</style>\n",
              "<table border=\"1\" class=\"dataframe\">\n",
              "  <thead>\n",
              "    <tr style=\"text-align: right;\">\n",
              "      <th></th>\n",
              "      <th>country</th>\n",
              "      <th>year</th>\n",
              "      <th>Pop90a94</th>\n",
              "    </tr>\n",
              "  </thead>\n",
              "  <tbody>\n",
              "    <tr>\n",
              "      <th>0</th>\n",
              "      <td>BR</td>\n",
              "      <td>1950</td>\n",
              "      <td>15773.0</td>\n",
              "    </tr>\n",
              "    <tr>\n",
              "      <th>1</th>\n",
              "      <td>BR</td>\n",
              "      <td>1951</td>\n",
              "      <td>14588.0</td>\n",
              "    </tr>\n",
              "    <tr>\n",
              "      <th>2</th>\n",
              "      <td>BR</td>\n",
              "      <td>1952</td>\n",
              "      <td>13278.0</td>\n",
              "    </tr>\n",
              "    <tr>\n",
              "      <th>3</th>\n",
              "      <td>BR</td>\n",
              "      <td>1953</td>\n",
              "      <td>11425.0</td>\n",
              "    </tr>\n",
              "    <tr>\n",
              "      <th>4</th>\n",
              "      <td>BR</td>\n",
              "      <td>1954</td>\n",
              "      <td>8904.0</td>\n",
              "    </tr>\n",
              "  </tbody>\n",
              "</table>\n",
              "</div>"
            ],
            "text/plain": [
              "  country  year  Pop90a94\n",
              "0      BR  1950   15773.0\n",
              "1      BR  1951   14588.0\n",
              "2      BR  1952   13278.0\n",
              "3      BR  1953   11425.0\n",
              "4      BR  1954    8904.0"
            ]
          },
          "metadata": {},
          "execution_count": 15
        }
      ]
    },
    {
      "cell_type": "code",
      "metadata": {
        "id": "liKOZiuB2a5P",
        "outputId": "b6f5aa12-5f87-439f-b23f-8f128f4d0689",
        "colab": {
          "base_uri": "https://localhost:8080/",
          "height": 206
        }
      },
      "source": [
        "Pop95a99 = Pop95a99.rename(columns={'value':'Pop95a99'})\n",
        "Pop95a99.drop(columns=['Shortname'],inplace=True)\n",
        "Pop95a99.head()"
      ],
      "execution_count": 16,
      "outputs": [
        {
          "output_type": "execute_result",
          "data": {
            "text/html": [
              "<div>\n",
              "<style scoped>\n",
              "    .dataframe tbody tr th:only-of-type {\n",
              "        vertical-align: middle;\n",
              "    }\n",
              "\n",
              "    .dataframe tbody tr th {\n",
              "        vertical-align: top;\n",
              "    }\n",
              "\n",
              "    .dataframe thead th {\n",
              "        text-align: right;\n",
              "    }\n",
              "</style>\n",
              "<table border=\"1\" class=\"dataframe\">\n",
              "  <thead>\n",
              "    <tr style=\"text-align: right;\">\n",
              "      <th></th>\n",
              "      <th>country</th>\n",
              "      <th>year</th>\n",
              "      <th>Pop95a99</th>\n",
              "    </tr>\n",
              "  </thead>\n",
              "  <tbody>\n",
              "    <tr>\n",
              "      <th>0</th>\n",
              "      <td>BR</td>\n",
              "      <td>1950</td>\n",
              "      <td>9298.0</td>\n",
              "    </tr>\n",
              "    <tr>\n",
              "      <th>1</th>\n",
              "      <td>BR</td>\n",
              "      <td>1951</td>\n",
              "      <td>7593.0</td>\n",
              "    </tr>\n",
              "    <tr>\n",
              "      <th>2</th>\n",
              "      <td>BR</td>\n",
              "      <td>1952</td>\n",
              "      <td>6497.0</td>\n",
              "    </tr>\n",
              "    <tr>\n",
              "      <th>3</th>\n",
              "      <td>BR</td>\n",
              "      <td>1953</td>\n",
              "      <td>5535.0</td>\n",
              "    </tr>\n",
              "    <tr>\n",
              "      <th>4</th>\n",
              "      <td>BR</td>\n",
              "      <td>1954</td>\n",
              "      <td>4277.0</td>\n",
              "    </tr>\n",
              "  </tbody>\n",
              "</table>\n",
              "</div>"
            ],
            "text/plain": [
              "  country  year  Pop95a99\n",
              "0      BR  1950    9298.0\n",
              "1      BR  1951    7593.0\n",
              "2      BR  1952    6497.0\n",
              "3      BR  1953    5535.0\n",
              "4      BR  1954    4277.0"
            ]
          },
          "metadata": {},
          "execution_count": 16
        }
      ]
    },
    {
      "cell_type": "code",
      "metadata": {
        "id": "IEN0ub_W2l-X",
        "outputId": "a4050641-699f-4738-8fcc-de5a56dd781a",
        "colab": {
          "base_uri": "https://localhost:8080/",
          "height": 206
        }
      },
      "source": [
        "# Criação de um dataframe com o somatório das populações com idade entre 90 a 99\n",
        "\n",
        "Pop95a99['Pop95a99'] = Pop90a94['Pop90a94']+Pop95a99['Pop95a99']\n",
        "Pop90a99 = Pop95a99.rename(columns={'Pop95a99':'Pop90a99'})\n",
        "Pop90a99.head() "
      ],
      "execution_count": 17,
      "outputs": [
        {
          "output_type": "execute_result",
          "data": {
            "text/html": [
              "<div>\n",
              "<style scoped>\n",
              "    .dataframe tbody tr th:only-of-type {\n",
              "        vertical-align: middle;\n",
              "    }\n",
              "\n",
              "    .dataframe tbody tr th {\n",
              "        vertical-align: top;\n",
              "    }\n",
              "\n",
              "    .dataframe thead th {\n",
              "        text-align: right;\n",
              "    }\n",
              "</style>\n",
              "<table border=\"1\" class=\"dataframe\">\n",
              "  <thead>\n",
              "    <tr style=\"text-align: right;\">\n",
              "      <th></th>\n",
              "      <th>country</th>\n",
              "      <th>year</th>\n",
              "      <th>Pop90a99</th>\n",
              "    </tr>\n",
              "  </thead>\n",
              "  <tbody>\n",
              "    <tr>\n",
              "      <th>0</th>\n",
              "      <td>BR</td>\n",
              "      <td>1950</td>\n",
              "      <td>25071.0</td>\n",
              "    </tr>\n",
              "    <tr>\n",
              "      <th>1</th>\n",
              "      <td>BR</td>\n",
              "      <td>1951</td>\n",
              "      <td>22181.0</td>\n",
              "    </tr>\n",
              "    <tr>\n",
              "      <th>2</th>\n",
              "      <td>BR</td>\n",
              "      <td>1952</td>\n",
              "      <td>19775.0</td>\n",
              "    </tr>\n",
              "    <tr>\n",
              "      <th>3</th>\n",
              "      <td>BR</td>\n",
              "      <td>1953</td>\n",
              "      <td>16960.0</td>\n",
              "    </tr>\n",
              "    <tr>\n",
              "      <th>4</th>\n",
              "      <td>BR</td>\n",
              "      <td>1954</td>\n",
              "      <td>13181.0</td>\n",
              "    </tr>\n",
              "  </tbody>\n",
              "</table>\n",
              "</div>"
            ],
            "text/plain": [
              "  country  year  Pop90a99\n",
              "0      BR  1950   25071.0\n",
              "1      BR  1951   22181.0\n",
              "2      BR  1952   19775.0\n",
              "3      BR  1953   16960.0\n",
              "4      BR  1954   13181.0"
            ]
          },
          "metadata": {},
          "execution_count": 17
        }
      ]
    },
    {
      "cell_type": "code",
      "metadata": {
        "colab": {
          "base_uri": "https://localhost:8080/",
          "height": 206
        },
        "id": "sh74d2g8Rvfc",
        "outputId": "57abf6b6-830d-4ed7-a01d-e3e9f6b489f0"
      },
      "source": [
        "Brasa = pd.merge(GNI_BR,PopAdult,how='left',on=['country','year'])\n",
        "Brasa = pd.merge(Brasa,ConsumoDeCapital,how='left',on=['country','year'])\n",
        "Brasa = pd.merge(Brasa,Pop90a99,how='left',on=['country','year'])\n",
        "Brasa.head()"
      ],
      "execution_count": 18,
      "outputs": [
        {
          "output_type": "execute_result",
          "data": {
            "text/html": [
              "<div>\n",
              "<style scoped>\n",
              "    .dataframe tbody tr th:only-of-type {\n",
              "        vertical-align: middle;\n",
              "    }\n",
              "\n",
              "    .dataframe tbody tr th {\n",
              "        vertical-align: top;\n",
              "    }\n",
              "\n",
              "    .dataframe thead th {\n",
              "        text-align: right;\n",
              "    }\n",
              "</style>\n",
              "<table border=\"1\" class=\"dataframe\">\n",
              "  <thead>\n",
              "    <tr style=\"text-align: right;\">\n",
              "      <th></th>\n",
              "      <th>country</th>\n",
              "      <th>year</th>\n",
              "      <th>RNB</th>\n",
              "      <th>PopAdulta</th>\n",
              "      <th>ConsumoDeCapital</th>\n",
              "      <th>Pop90a99</th>\n",
              "    </tr>\n",
              "  </thead>\n",
              "  <tbody>\n",
              "    <tr>\n",
              "      <th>0</th>\n",
              "      <td>BR</td>\n",
              "      <td>1950</td>\n",
              "      <td>15444.4</td>\n",
              "      <td>26138182.0</td>\n",
              "      <td>662.1</td>\n",
              "      <td>25071.0</td>\n",
              "    </tr>\n",
              "    <tr>\n",
              "      <th>1</th>\n",
              "      <td>BR</td>\n",
              "      <td>1951</td>\n",
              "      <td>15764.0</td>\n",
              "      <td>26830918.0</td>\n",
              "      <td>680.7</td>\n",
              "      <td>22181.0</td>\n",
              "    </tr>\n",
              "    <tr>\n",
              "      <th>2</th>\n",
              "      <td>BR</td>\n",
              "      <td>1952</td>\n",
              "      <td>16265.5</td>\n",
              "      <td>27551936.0</td>\n",
              "      <td>700.4</td>\n",
              "      <td>19775.0</td>\n",
              "    </tr>\n",
              "    <tr>\n",
              "      <th>3</th>\n",
              "      <td>BR</td>\n",
              "      <td>1953</td>\n",
              "      <td>16611.5</td>\n",
              "      <td>28277184.0</td>\n",
              "      <td>721.8</td>\n",
              "      <td>16960.0</td>\n",
              "    </tr>\n",
              "    <tr>\n",
              "      <th>4</th>\n",
              "      <td>BR</td>\n",
              "      <td>1954</td>\n",
              "      <td>17251.5</td>\n",
              "      <td>29029772.0</td>\n",
              "      <td>745.8</td>\n",
              "      <td>13181.0</td>\n",
              "    </tr>\n",
              "  </tbody>\n",
              "</table>\n",
              "</div>"
            ],
            "text/plain": [
              "  country  year      RNB   PopAdulta  ConsumoDeCapital  Pop90a99\n",
              "0      BR  1950  15444.4  26138182.0             662.1   25071.0\n",
              "1      BR  1951  15764.0  26830918.0             680.7   22181.0\n",
              "2      BR  1952  16265.5  27551936.0             700.4   19775.0\n",
              "3      BR  1953  16611.5  28277184.0             721.8   16960.0\n",
              "4      BR  1954  17251.5  29029772.0             745.8   13181.0"
            ]
          },
          "metadata": {},
          "execution_count": 18
        }
      ]
    },
    {
      "cell_type": "markdown",
      "metadata": {
        "id": "jayMQ5-jUv-i"
      },
      "source": [
        "# **Primeira Pergunta:**\n",
        "\n",
        "O crescimento da renda nacional bruta acompanha o crescimento da população adulta?"
      ]
    },
    {
      "cell_type": "code",
      "metadata": {
        "colab": {
          "base_uri": "https://localhost:8080/",
          "height": 420
        },
        "id": "fww9lhGYS2wN",
        "outputId": "bcd03cc3-ec7b-445b-b72b-31c056e3fa88"
      },
      "source": [
        "plt.figure(figsize=(12,6))\n",
        "\n",
        "sns.lineplot(x=Brasa.year, y=Brasa.PopAdulta, label='População')\n",
        "sns.lineplot(x=Brasa.year, y=Brasa.RNB, label='Renda Nacional Bruta')\n",
        "\n",
        "plt.title('Brasil: População Adulta x Renda Nacional Bruta', fontsize=14)\n",
        "plt.legend()\n",
        "plt.xticks(rotation=90)\n",
        "plt.show()"
      ],
      "execution_count": null,
      "outputs": [
        {
          "output_type": "display_data",
          "data": {
            "image/png": "[encoded data removed]",
            "text/plain": [
              "<Figure size 864x432 with 1 Axes>"
            ]
          },
          "metadata": {
            "needs_background": "light"
          }
        }
      ]
    },
    {
      "cell_type": "markdown",
      "metadata": {
        "id": "yJ0eVh-1T5KV"
      },
      "source": [
        "Com essa primeira análise podemos ver que o crescimento da população foi muito maior do que o crescimento da renda nacional bruta, porém, como os gráficos estão em escalas diferentes, essa primeira visualização pode ser errônea, vamos ajustar os gráficos e fazer uma análise logarítmica."
      ]
    },
    {
      "cell_type": "code",
      "metadata": {
        "colab": {
          "base_uri": "https://localhost:8080/",
          "height": 420
        },
        "id": "0T1PCTYlUJTW",
        "outputId": "02f0858d-fd58-45bd-8798-7c8b65ff0d90"
      },
      "source": [
        "plt.figure(figsize=(12,6))\n",
        "\n",
        "sns.lineplot(x=Brasa.year, y=np.log(Brasa.PopAdulta), label='População')\n",
        "sns.lineplot(x=Brasa.year, y=np.log(Brasa.RNB), label='Renda Nacional Bruta')\n",
        "\n",
        "plt.title('Brasil: População Adulta x Renda Nacional Bruta', fontsize=14)\n",
        "plt.legend()\n",
        "plt.xticks(rotation=90)\n",
        "plt.show()"
      ],
      "execution_count": null,
      "outputs": [
        {
          "output_type": "display_data",
          "data": {
            "image/png": "[encoded data removed]",
            "text/plain": [
              "<Figure size 864x432 with 1 Axes>"
            ]
          },
          "metadata": {
            "needs_background": "light"
          }
        }
      ]
    },
    {
      "cell_type": "markdown",
      "metadata": {
        "id": "sjF6j9ApU_S8"
      },
      "source": [
        "**Conclusão**\n",
        "\n",
        "Com essa análise podemos perceber uma correlação muito alta entre o crescimento da população adulta e o crescimento da renda nacional bruta. Não podemos indicar 100% causalidade, porém faz todo sentido, aumento da população adulta, mais pessoas trabalhando, aumento da renda nacional bruta do país."
      ]
    },
    {
      "cell_type": "markdown",
      "metadata": {
        "id": "BqKgcfxQXdEw"
      },
      "source": [
        "# **Segunda Pergunta:**\n",
        "Qual foi o crescimento da população ao longo da amostra?\n",
        "\n",
        "\n",
        "Como é a relação da população adulta com a população acima de 90 anos? \n",
        "\n",
        "\n"
      ]
    },
    {
      "cell_type": "code",
      "metadata": {
        "colab": {
          "base_uri": "https://localhost:8080/",
          "height": 420
        },
        "id": "8fIuG9bKa2rp",
        "outputId": "7d6b5ccf-acf5-4cc5-bdb1-f8f6aae39b50"
      },
      "source": [
        "plt.figure(figsize=(12,6))\n",
        "\n",
        "sns.lineplot(x=Brasa.year, y=Brasa.PopAdulta, label='População')\n",
        "\n",
        "plt.title('Brasil: Aumento da população brasileira', fontsize=14)\n",
        "plt.legend()\n",
        "plt.xticks(rotation=90)\n",
        "plt.show()"
      ],
      "execution_count": null,
      "outputs": [
        {
          "output_type": "display_data",
          "data": {
            "image/png": "[encoded data removed]",
            "text/plain": [
              "<Figure size 864x432 with 1 Axes>"
            ]
          },
          "metadata": {
            "needs_background": "light"
          }
        }
      ]
    },
    {
      "cell_type": "code",
      "metadata": {
        "colab": {
          "base_uri": "https://localhost:8080/",
          "height": 206
        },
        "id": "uRyF_eMfab3S",
        "outputId": "97402b0a-6298-4c0b-ab98-df69e63b58e0"
      },
      "source": [
        "PopAdult.head()"
      ],
      "execution_count": null,
      "outputs": [
        {
          "output_type": "execute_result",
          "data": {
            "text/html": [
              "<div>\n",
              "<style scoped>\n",
              "    .dataframe tbody tr th:only-of-type {\n",
              "        vertical-align: middle;\n",
              "    }\n",
              "\n",
              "    .dataframe tbody tr th {\n",
              "        vertical-align: top;\n",
              "    }\n",
              "\n",
              "    .dataframe thead th {\n",
              "        text-align: right;\n",
              "    }\n",
              "</style>\n",
              "<table border=\"1\" class=\"dataframe\">\n",
              "  <thead>\n",
              "    <tr style=\"text-align: right;\">\n",
              "      <th></th>\n",
              "      <th>country</th>\n",
              "      <th>year</th>\n",
              "      <th>PopAdulta</th>\n",
              "    </tr>\n",
              "  </thead>\n",
              "  <tbody>\n",
              "    <tr>\n",
              "      <th>0</th>\n",
              "      <td>BR</td>\n",
              "      <td>1950</td>\n",
              "      <td>26138182.0</td>\n",
              "    </tr>\n",
              "    <tr>\n",
              "      <th>1</th>\n",
              "      <td>BR</td>\n",
              "      <td>1951</td>\n",
              "      <td>26830918.0</td>\n",
              "    </tr>\n",
              "    <tr>\n",
              "      <th>2</th>\n",
              "      <td>BR</td>\n",
              "      <td>1952</td>\n",
              "      <td>27551936.0</td>\n",
              "    </tr>\n",
              "    <tr>\n",
              "      <th>3</th>\n",
              "      <td>BR</td>\n",
              "      <td>1953</td>\n",
              "      <td>28277184.0</td>\n",
              "    </tr>\n",
              "    <tr>\n",
              "      <th>4</th>\n",
              "      <td>BR</td>\n",
              "      <td>1954</td>\n",
              "      <td>29029772.0</td>\n",
              "    </tr>\n",
              "  </tbody>\n",
              "</table>\n",
              "</div>"
            ],
            "text/plain": [
              "  country  year   PopAdulta\n",
              "0      BR  1950  26138182.0\n",
              "1      BR  1951  26830918.0\n",
              "2      BR  1952  27551936.0\n",
              "3      BR  1953  28277184.0\n",
              "4      BR  1954  29029772.0"
            ]
          },
          "metadata": {},
          "execution_count": 16
        }
      ]
    },
    {
      "cell_type": "code",
      "metadata": {
        "colab": {
          "base_uri": "https://localhost:8080/",
          "height": 206
        },
        "id": "E0cKVbgPYMXq",
        "outputId": "3e6e8457-6fdc-4054-e157-573d22cb1ce1"
      },
      "source": [
        "PopAdult.tail()"
      ],
      "execution_count": null,
      "outputs": [
        {
          "output_type": "execute_result",
          "data": {
            "text/html": [
              "<div>\n",
              "<style scoped>\n",
              "    .dataframe tbody tr th:only-of-type {\n",
              "        vertical-align: middle;\n",
              "    }\n",
              "\n",
              "    .dataframe tbody tr th {\n",
              "        vertical-align: top;\n",
              "    }\n",
              "\n",
              "    .dataframe thead th {\n",
              "        text-align: right;\n",
              "    }\n",
              "</style>\n",
              "<table border=\"1\" class=\"dataframe\">\n",
              "  <thead>\n",
              "    <tr style=\"text-align: right;\">\n",
              "      <th></th>\n",
              "      <th>country</th>\n",
              "      <th>year</th>\n",
              "      <th>PopAdulta</th>\n",
              "    </tr>\n",
              "  </thead>\n",
              "  <tbody>\n",
              "    <tr>\n",
              "      <th>65</th>\n",
              "      <td>BR</td>\n",
              "      <td>2015</td>\n",
              "      <td>141373696.0</td>\n",
              "    </tr>\n",
              "    <tr>\n",
              "      <th>66</th>\n",
              "      <td>BR</td>\n",
              "      <td>2016</td>\n",
              "      <td>143572000.0</td>\n",
              "    </tr>\n",
              "    <tr>\n",
              "      <th>67</th>\n",
              "      <td>BR</td>\n",
              "      <td>2017</td>\n",
              "      <td>145811792.0</td>\n",
              "    </tr>\n",
              "    <tr>\n",
              "      <th>68</th>\n",
              "      <td>BR</td>\n",
              "      <td>2018</td>\n",
              "      <td>148048880.0</td>\n",
              "    </tr>\n",
              "    <tr>\n",
              "      <th>69</th>\n",
              "      <td>BR</td>\n",
              "      <td>2019</td>\n",
              "      <td>150228224.0</td>\n",
              "    </tr>\n",
              "  </tbody>\n",
              "</table>\n",
              "</div>"
            ],
            "text/plain": [
              "   country  year    PopAdulta\n",
              "65      BR  2015  141373696.0\n",
              "66      BR  2016  143572000.0\n",
              "67      BR  2017  145811792.0\n",
              "68      BR  2018  148048880.0\n",
              "69      BR  2019  150228224.0"
            ]
          },
          "metadata": {},
          "execution_count": 17
        }
      ]
    },
    {
      "cell_type": "code",
      "metadata": {
        "id": "kf5MpXvUYjsi"
      },
      "source": [
        "Pop2019 = PopAdult.loc[69,'PopAdulta']\n",
        "Pop1950 = PopAdult.loc[0,'PopAdulta']"
      ],
      "execution_count": null,
      "outputs": []
    },
    {
      "cell_type": "code",
      "metadata": {
        "colab": {
          "base_uri": "https://localhost:8080/"
        },
        "id": "BsZICaAOY-Yr",
        "outputId": "f7103ae6-dd24-4e85-c050-6a5a3108ebbf"
      },
      "source": [
        "Aumento = Pop2019 - Pop1950\n",
        "print('A população brasileira aumentou {:0.0f} no número de habitantes'.format(Aumento))\n",
        "Porcent = (((Pop2019 / Pop1950))*100)\n",
        "print('Representando um aumento de {:0.2f}% de 2019 em relação a 1950.'.format(Porcent))"
      ],
      "execution_count": null,
      "outputs": [
        {
          "output_type": "stream",
          "name": "stdout",
          "text": [
            "A população brasileira aumentou 124090042 no número de habitantes\n",
            "Representando um aumento de 574.75% de 2019 em relação a 1950.\n"
          ]
        }
      ]
    },
    {
      "cell_type": "code",
      "metadata": {
        "id": "jeyu-Q6p456v",
        "outputId": "96d929ae-b0cb-4746-9e2a-baf859aae6ec",
        "colab": {
          "base_uri": "https://localhost:8080/",
          "height": 420
        }
      },
      "source": [
        "plt.figure(figsize=(12,6))\n",
        "\n",
        "sns.lineplot(x=Brasa.year, y=np.log(Brasa.PopAdulta), label='População')\n",
        "sns.lineplot(x=Brasa.year, y=np.log(Brasa.Pop90a99), label='Renda Nacional Bruta')\n",
        "\n",
        "plt.title('Brasil: População Adulta x População de 90 a 99 anos', fontsize=14)\n",
        "plt.legend()\n",
        "plt.xticks(rotation=90)\n",
        "plt.show()"
      ],
      "execution_count": 19,
      "outputs": [
        {
          "output_type": "display_data",
          "data": {
            "image/png": "[encoded data removed]",
            "text/plain": [
              "<Figure size 864x432 with 1 Axes>"
            ]
          },
          "metadata": {
            "needs_background": "light"
          }
        }
      ]
    },
    {
      "cell_type": "markdown",
      "metadata": {
        "id": "3drQlk_N4_-3"
      },
      "source": [
        "**Respostas:**\n",
        "\n",
        "Primeira questão:\n",
        "\n",
        "A população brasileira aumentou 124090042 no número de habitantes\n",
        "Representando um aumento de 574.75% de 2019 em relação a 1950.\n",
        "\n",
        "Segunda questão:\n",
        "\n",
        "Podemos observar que depois de 1970 o crescimento da população de 90 a 99 anos é relatavimente proporcional ao da popuolação, antes disso podemos ver até uma diminuição, o que pode mostrar que a expectativa de vida vem aumentando ao longo dos anos.\n",
        "\n"
      ]
    },
    {
      "cell_type": "markdown",
      "metadata": {
        "id": "c_JOAYU-EZFx"
      },
      "source": [
        "# **Terceira questão**\n",
        "\n",
        "Qual a relação entre as 4 váriaveis da planilha \"Brasa\"?\n"
      ]
    },
    {
      "cell_type": "code",
      "metadata": {
        "colab": {
          "base_uri": "https://localhost:8080/",
          "height": 420
        },
        "id": "vsQ3LaJ5EnIq",
        "outputId": "86129595-27be-4139-f0e5-8208b8dbbcaa"
      },
      "source": [
        "plt.figure(figsize=(12,6))\n",
        "\n",
        "for c in Brasa[['RNB','PopAdulta','ConsumoDeCapital','Pop90a99']]:\n",
        "  sns.lineplot(x=Brasa.year, y=Brasa[c], label=c)\n",
        "\n",
        "plt.title('Brasil, Renda Nacional Bruta x População Adulta X Consumo de Capital X População de 90 a 99 anos', fontsize=14)\n",
        "plt.legend()\n",
        "plt.xticks(rotation=90)\n",
        "plt.show()"
      ],
      "execution_count": 20,
      "outputs": [
        {
          "output_type": "display_data",
          "data": {
            "image/png": "[encoded data removed]",
            "text/plain": [
              "<Figure size 864x432 with 1 Axes>"
            ]
          },
          "metadata": {
            "needs_background": "light"
          }
        }
      ]
    },
    {
      "cell_type": "markdown",
      "metadata": {
        "id": "EshGtx4eFCRA"
      },
      "source": [
        "Com essa primeira análise, não podemos ver muita variação, devido a grande diferença de escalas, para resolver esse problema vamos normalizar os dados e deixa-los na mesma escala\n"
      ]
    },
    {
      "cell_type": "code",
      "metadata": {
        "colab": {
          "base_uri": "https://localhost:8080/",
          "height": 206
        },
        "id": "RegLHmoAFOox",
        "outputId": "253fac7d-6cd0-4b93-b463-dab772086623"
      },
      "source": [
        "for c in Brasa[['RNB','PopAdulta','ConsumoDeCapital','Pop90a99']]:\n",
        "  Brasa[c] = Brasa[c] / Brasa[c].max()\n",
        "Brasa.head()"
      ],
      "execution_count": 21,
      "outputs": [
        {
          "output_type": "execute_result",
          "data": {
            "text/html": [
              "<div>\n",
              "<style scoped>\n",
              "    .dataframe tbody tr th:only-of-type {\n",
              "        vertical-align: middle;\n",
              "    }\n",
              "\n",
              "    .dataframe tbody tr th {\n",
              "        vertical-align: top;\n",
              "    }\n",
              "\n",
              "    .dataframe thead th {\n",
              "        text-align: right;\n",
              "    }\n",
              "</style>\n",
              "<table border=\"1\" class=\"dataframe\">\n",
              "  <thead>\n",
              "    <tr style=\"text-align: right;\">\n",
              "      <th></th>\n",
              "      <th>country</th>\n",
              "      <th>year</th>\n",
              "      <th>RNB</th>\n",
              "      <th>PopAdulta</th>\n",
              "      <th>ConsumoDeCapital</th>\n",
              "      <th>Pop90a99</th>\n",
              "    </tr>\n",
              "  </thead>\n",
              "  <tbody>\n",
              "    <tr>\n",
              "      <th>0</th>\n",
              "      <td>BR</td>\n",
              "      <td>1950</td>\n",
              "      <td>0.290452</td>\n",
              "      <td>0.173990</td>\n",
              "      <td>0.152537</td>\n",
              "      <td>0.058893</td>\n",
              "    </tr>\n",
              "    <tr>\n",
              "      <th>1</th>\n",
              "      <td>BR</td>\n",
              "      <td>1951</td>\n",
              "      <td>0.296462</td>\n",
              "      <td>0.178601</td>\n",
              "      <td>0.156822</td>\n",
              "      <td>0.052105</td>\n",
              "    </tr>\n",
              "    <tr>\n",
              "      <th>2</th>\n",
              "      <td>BR</td>\n",
              "      <td>1952</td>\n",
              "      <td>0.305894</td>\n",
              "      <td>0.183401</td>\n",
              "      <td>0.161360</td>\n",
              "      <td>0.046453</td>\n",
              "    </tr>\n",
              "    <tr>\n",
              "      <th>3</th>\n",
              "      <td>BR</td>\n",
              "      <td>1953</td>\n",
              "      <td>0.312401</td>\n",
              "      <td>0.188228</td>\n",
              "      <td>0.166290</td>\n",
              "      <td>0.039840</td>\n",
              "    </tr>\n",
              "    <tr>\n",
              "      <th>4</th>\n",
              "      <td>BR</td>\n",
              "      <td>1954</td>\n",
              "      <td>0.324437</td>\n",
              "      <td>0.193238</td>\n",
              "      <td>0.171820</td>\n",
              "      <td>0.030963</td>\n",
              "    </tr>\n",
              "  </tbody>\n",
              "</table>\n",
              "</div>"
            ],
            "text/plain": [
              "  country  year       RNB  PopAdulta  ConsumoDeCapital  Pop90a99\n",
              "0      BR  1950  0.290452   0.173990          0.152537  0.058893\n",
              "1      BR  1951  0.296462   0.178601          0.156822  0.052105\n",
              "2      BR  1952  0.305894   0.183401          0.161360  0.046453\n",
              "3      BR  1953  0.312401   0.188228          0.166290  0.039840\n",
              "4      BR  1954  0.324437   0.193238          0.171820  0.030963"
            ]
          },
          "metadata": {},
          "execution_count": 21
        }
      ]
    },
    {
      "cell_type": "code",
      "metadata": {
        "colab": {
          "base_uri": "https://localhost:8080/",
          "height": 420
        },
        "id": "f0LpnWRwFkLA",
        "outputId": "f2bc0c24-7577-47f2-dc2c-1025332f7f7f"
      },
      "source": [
        "plt.figure(figsize=(12,6))\n",
        "\n",
        "for c in Brasa[['RNB','PopAdulta','ConsumoDeCapital','Pop90a99']]:\n",
        "  sns.lineplot(x=Brasa.year, y=Brasa[c], label=c)\n",
        "\n",
        "plt.title('Brasil, Renda Nacional Bruta x População Adulta X Consumo de Capital X População de 90 a 99 anos', fontsize=14)\n",
        "plt.legend()\n",
        "plt.xticks(rotation=90)\n",
        "plt.show()"
      ],
      "execution_count": 22,
      "outputs": [
        {
          "output_type": "display_data",
          "data": {
            "image/png": "[encoded data removed]",
            "text/plain": [
              "<Figure size 864x432 with 1 Axes>"
            ]
          },
          "metadata": {
            "needs_background": "light"
          }
        }
      ]
    },
    {
      "cell_type": "markdown",
      "metadata": {
        "id": "hdB1krAeFnSq"
      },
      "source": [
        "**Conclusão**\n",
        "\n",
        "Já com esse gráfico podemos ver uma correlação muito grande entre as variáveis, a população adulta sempre aumentando, já as outras duas, principalmente renda nacional bruta, com alguns \"soluços\" entre 1980 e 1990, porém com uma tendência de crescimento\n",
        "Podemos ver também que a população entre 90 a 99 começa a crescer bastante após os anos 2000, mostrando um aumento considerável na expectativa de vida."
      ]
    },
    {
      "cell_type": "markdown",
      "metadata": {
        "id": "lykrxgDtGEtJ"
      },
      "source": [
        "# **Quarta questão**\n",
        "\n",
        "Qual a correlação entre as 4 variavéis analisadas?"
      ]
    },
    {
      "cell_type": "code",
      "metadata": {
        "colab": {
          "base_uri": "https://localhost:8080/",
          "height": 355
        },
        "id": "jWqHNm9zGMWB",
        "outputId": "b08708d3-1077-47f4-f09b-f1bd888f2a8f"
      },
      "source": [
        "sns.heatmap(Brasa[['RNB','PopAdulta','ConsumoDeCapital','Pop90a99']].corr(),annot=True,linewidths=.5)\n",
        "\n",
        "plt.show()"
      ],
      "execution_count": 24,
      "outputs": [
        {
          "output_type": "display_data",
          "data": {
            "image/png": "[encoded data removed]",
            "text/plain": [
              "<Figure size 432x288 with 2 Axes>"
            ]
          },
          "metadata": {
            "needs_background": "light"
          }
        }
      ]
    },
    {
      "cell_type": "markdown",
      "metadata": {
        "id": "wXCsj399H9l5"
      },
      "source": [
        "**Conclusão**\n",
        "\n",
        "Conforme analisado no gráfico da terceira questão, podemos observar que a correlação entre Consumo de capital e Renda Nacional Bruta é maior do que a população adulta, isso explica muito o gráfico que vimos.\n",
        "Mais adultos, mais mão de obra de trabalho, aumenta da renda, aumento do consumo de capital. \n",
        "Como a população não diminui, existe alguns períodos em que a Renda diminuiu, trazendo o consumo de capital também para baixo.\n",
        "Já a população de 90 a 99 anos tem uma correlação baixa comparado com os outros dados, mostrando que outros fatores influenciam no aumento ou diminuição dessa faixa de idade."
      ]
    }
  ]
}