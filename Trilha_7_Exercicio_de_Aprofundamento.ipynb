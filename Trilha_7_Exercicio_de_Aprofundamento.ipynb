{
  "nbformat": 4,
  "nbformat_minor": 0,
  "metadata": {
    "kernelspec": {
      "display_name": "R",
      "language": "R",
      "name": "ir"
    },
    "language_info": {
      "codemirror_mode": "r",
      "file_extension": ".r",
      "mimetype": "text/x-r-source",
      "name": "R",
      "pygments_lexer": "r",
      "version": "4.1.0"
    },
    "colab": {
      "name": "Trilha7_ExercicioAprofundamento.ipynb",
      "provenance": [],
      "toc_visible": true
    }
  },
  "cells": [
    {
      "cell_type": "markdown",
      "metadata": {
        "id": "nyDUaSAsbDnu"
      },
      "source": [
        "## Exercício de Aprofundamento - Trilha 7 "
      ]
    },
    {
      "cell_type": "markdown",
      "metadata": {
        "id": "FDT0TyYybDn1"
      },
      "source": [
        "Faça as manipulações e explorações visuais de acordo com as perguntas que precisam ser respondidas"
      ]
    },
    {
      "cell_type": "markdown",
      "metadata": {
        "id": "GJhqp5-_bDn3"
      },
      "source": [
        "## Análise de dados da NFL "
      ]
    },
    {
      "cell_type": "code",
      "metadata": {
        "id": "ekwPf47hbDn5",
        "colab": {
          "base_uri": "https://localhost:8080/"
        },
        "outputId": "a7ffe035-f406-460b-be9c-432d5ae1571b"
      },
      "source": [
        "install.packages(\"nflfastR\")\n",
        "#install.packages(\"ggimage\")\n",
        "install.packages(\"imager\")\n"
      ],
      "execution_count": 1,
      "outputs": [
        {
          "output_type": "stream",
          "name": "stderr",
          "text": [
            "Installing package into ‘/usr/local/lib/R/site-library’\n",
            "(as ‘lib’ is unspecified)\n",
            "\n",
            "also installing the dependencies ‘globals’, ‘listenv’, ‘parallelly’, ‘snakecase’, ‘fastrmodels’, ‘furrr’, ‘future’, ‘janitor’, ‘progressr’, ‘xgboost’\n",
            "\n",
            "\n",
            "Installing package into ‘/usr/local/lib/R/site-library’\n",
            "(as ‘lib’ is unspecified)\n",
            "\n",
            "also installing the dependencies ‘bmp’, ‘tiff’, ‘png’, ‘jpeg’, ‘readbitmap’, ‘downloader’, ‘igraph’\n",
            "\n",
            "\n"
          ]
        }
      ]
    },
    {
      "cell_type": "code",
      "metadata": {
        "id": "dVaSEYE9bO3i"
      },
      "source": [
        "library(nflfastR)\n",
        "\n",
        "library(tidyverse)\n",
        "library(ggplot2)\n",
        "\n",
        "library(imager)\n",
        "#library(ggimage)"
      ],
      "execution_count": 4,
      "outputs": []
    },
    {
      "cell_type": "code",
      "metadata": {
        "id": "n44dj-LFbDn9"
      },
      "source": [
        "temporada <- load_pbp(2014) #Carregamento dos dados, jogada a jogada, de 2014"
      ],
      "execution_count": 5,
      "outputs": []
    },
    {
      "cell_type": "markdown",
      "metadata": {
        "id": "YvBFu2UiWaSK"
      },
      "source": [
        "# **Manipulação de Dados**"
      ]
    },
    {
      "cell_type": "code",
      "metadata": {
        "id": "L5cCcoZvbDoH",
        "colab": {
          "base_uri": "https://localhost:8080/",
          "height": 468
        },
        "outputId": "d2527232-680f-457a-ad9a-df8046ad4afc"
      },
      "source": [
        "timeEscolhido <- 'SEA'\n",
        "\n",
        "jogosTimeEscolhido <- temporada %>% filter(home_team == timeEscolhido | away_team == timeEscolhido)\n",
        "\n",
        "table(jogosTimeEscolhido$away_team, jogosTimeEscolhido$week)"
      ],
      "execution_count": 6,
      "outputs": [
        {
          "output_type": "display_data",
          "data": {
            "text/plain": [
              "     \n",
              "        1   2   3   5   6   7   8   9  10  11  12  13  14  15  16  17  19  20\n",
              "  ARI   0   0   0   0   0   0   0   0   0   0 154   0   0   0   0   0   0   0\n",
              "  CAR   0   0   0   0   0   0   0   0   0   0   0   0   0   0   0   0 167   0\n",
              "  DAL   0   0   0   0 173   0   0   0   0   0   0   0   0   0   0   0   0   0\n",
              "  DEN   0   0 203   0   0   0   0   0   0   0   0   0   0   0   0   0   0   0\n",
              "  GB  172   0   0   0   0   0   0   0   0   0   0   0   0   0   0   0   0 192\n",
              "  LA    0   0   0   0   0   0   0   0   0   0   0   0   0   0   0 163   0   0\n",
              "  LV    0   0   0   0   0   0   0 196   0   0   0   0   0   0   0   0   0   0\n",
              "  NE    0   0   0   0   0   0   0   0   0   0   0   0   0   0   0   0   0   0\n",
              "  NYG   0   0   0   0   0   0   0   0 172   0   0   0   0   0   0   0   0   0\n",
              "  SEA   0 167   0 177   0 168 157   0   0 167   0 164 182   0 202   0   0   0\n",
              "  SF    0   0   0   0   0   0   0   0   0   0   0   0   0 164   0   0   0   0\n",
              "     \n",
              "       21\n",
              "  ARI   0\n",
              "  CAR   0\n",
              "  DAL   0\n",
              "  DEN   0\n",
              "  GB    0\n",
              "  LA    0\n",
              "  LV    0\n",
              "  NE  192\n",
              "  NYG   0\n",
              "  SEA   0\n",
              "  SF    0"
            ]
          },
          "metadata": {}
        }
      ]
    },
    {
      "cell_type": "code",
      "metadata": {
        "id": "b_iECSh1bDoH"
      },
      "source": [
        "jogo <- jogosTimeEscolhido %>%\n",
        "    filter(week==1) %>%\n",
        "    select(play_id,\n",
        "           home_team, away_team, away_score, home_score, total\n",
        "          )"
      ],
      "execution_count": 7,
      "outputs": []
    },
    {
      "cell_type": "code",
      "metadata": {
        "id": "hRZbytLdbDoI"
      },
      "source": [
        "acoesJogadas <- jogosTimeEscolhido %>%\n",
        "    filter(week==1) %>%\n",
        "    select(play_id,\n",
        "           rush_attempt, pass_attempt, field_goal_attempt, down, time, qtr, ydstogo, yards_gained\n",
        "          )"
      ],
      "execution_count": 8,
      "outputs": []
    },
    {
      "cell_type": "code",
      "metadata": {
        "id": "Y1-BLhqsbDoI"
      },
      "source": [
        "pontuacaoJogadas <- jogosTimeEscolhido %>%\n",
        "    filter(week==1) %>%\n",
        "    select(play_id,\n",
        "           posteam, defteam, posteam_score, defteam_score, rush, pass, passer, rusher, receiver, interception, play_type, pass_length, air_yards, kick_distance, drive, touchdown, td_team, name\n",
        "          )"
      ],
      "execution_count": 9,
      "outputs": []
    },
    {
      "cell_type": "code",
      "metadata": {
        "id": "5-ikY7UzbDoJ"
      },
      "source": [
        "descricaoJogadas <- jogosTimeEscolhido %>%\n",
        "    filter(week==1) %>%\n",
        "    select(play_id,\n",
        "           desc, passer_player_name, passing_yards, receiver_player_name, punt_returner_player_name        \n",
        "          )"
      ],
      "execution_count": 10,
      "outputs": []
    },
    {
      "cell_type": "code",
      "metadata": {
        "id": "DsiIRMhjbDoJ"
      },
      "source": [
        "head(jogo)\n",
        "head(acoesJogadas)\n",
        "head(pontuacaoJogadas)\n",
        "head(descricaoJogadas)"
      ],
      "execution_count": null,
      "outputs": []
    },
    {
      "cell_type": "markdown",
      "metadata": {
        "id": "Vx0izqDBWiQ5"
      },
      "source": [
        "# **Desafios de manipulação de dados**"
      ]
    },
    {
      "cell_type": "markdown",
      "metadata": {
        "id": "szeTfO_hbDoL"
      },
      "source": [
        "Com base no dataset específico **pontuacaoJogadas**, apresente os dados somente quando ouve *rush* ou *pass* na jogada. Garanta que exista também o nome ou abreviatura do time que está atacando (variável *posteam*), além dos nomes dos jogadores que estão fazendo passe,  correndo ou recebendo a bola (variáveis *passer*, *rusher* e *receiver*)"
      ]
    },
    {
      "cell_type": "code",
      "metadata": {
        "id": "FQF3gk1cbDoL",
        "outputId": "6905d65f-4f99-4d7a-f19f-d901b15442d3",
        "colab": {
          "base_uri": "https://localhost:8080/",
          "height": 255
        }
      },
      "source": [
        "pontuacaoJogadas %>%\n",
        "  filter (rush == 1 | pass == 1) %>%\n",
        "  select (posteam, rush, pass, passer, rusher, receiver) %>%\n",
        "  head(5)"
      ],
      "execution_count": 11,
      "outputs": [
        {
          "output_type": "display_data",
          "data": {
            "text/plain": [
              "  posteam rush pass passer    rusher   receiver\n",
              "1 GB      1    0    NA        E.Lacy   NA      \n",
              "2 GB      1    0    NA        E.Lacy   NA      \n",
              "3 GB      1    0    NA        E.Lacy   NA      \n",
              "4 GB      1    0    NA        J.Starks NA      \n",
              "5 GB      0    1    A.Rodgers NA       J.Nelson"
            ],
            "text/latex": "A tibble: 5 × 6\n\\begin{tabular}{llllll}\n posteam & rush & pass & passer & rusher & receiver\\\\\n <chr> & <dbl> & <dbl> & <chr> & <chr> & <chr>\\\\\n\\hline\n\t GB & 1 & 0 & NA        & E.Lacy   & NA      \\\\\n\t GB & 1 & 0 & NA        & E.Lacy   & NA      \\\\\n\t GB & 1 & 0 & NA        & E.Lacy   & NA      \\\\\n\t GB & 1 & 0 & NA        & J.Starks & NA      \\\\\n\t GB & 0 & 1 & A.Rodgers & NA       & J.Nelson\\\\\n\\end{tabular}\n",
            "text/markdown": "\nA tibble: 5 × 6\n\n| posteam &lt;chr&gt; | rush &lt;dbl&gt; | pass &lt;dbl&gt; | passer &lt;chr&gt; | rusher &lt;chr&gt; | receiver &lt;chr&gt; |\n|---|---|---|---|---|---|\n| GB | 1 | 0 | NA        | E.Lacy   | NA       |\n| GB | 1 | 0 | NA        | E.Lacy   | NA       |\n| GB | 1 | 0 | NA        | E.Lacy   | NA       |\n| GB | 1 | 0 | NA        | J.Starks | NA       |\n| GB | 0 | 1 | A.Rodgers | NA       | J.Nelson |\n\n",
            "text/html": [
              "<table class=\"dataframe\">\n",
              "<caption>A tibble: 5 × 6</caption>\n",
              "<thead>\n",
              "\t<tr><th scope=col>posteam</th><th scope=col>rush</th><th scope=col>pass</th><th scope=col>passer</th><th scope=col>rusher</th><th scope=col>receiver</th></tr>\n",
              "\t<tr><th scope=col>&lt;chr&gt;</th><th scope=col>&lt;dbl&gt;</th><th scope=col>&lt;dbl&gt;</th><th scope=col>&lt;chr&gt;</th><th scope=col>&lt;chr&gt;</th><th scope=col>&lt;chr&gt;</th></tr>\n",
              "</thead>\n",
              "<tbody>\n",
              "\t<tr><td>GB</td><td>1</td><td>0</td><td>NA       </td><td>E.Lacy  </td><td>NA      </td></tr>\n",
              "\t<tr><td>GB</td><td>1</td><td>0</td><td>NA       </td><td>E.Lacy  </td><td>NA      </td></tr>\n",
              "\t<tr><td>GB</td><td>1</td><td>0</td><td>NA       </td><td>E.Lacy  </td><td>NA      </td></tr>\n",
              "\t<tr><td>GB</td><td>1</td><td>0</td><td>NA       </td><td>J.Starks</td><td>NA      </td></tr>\n",
              "\t<tr><td>GB</td><td>0</td><td>1</td><td>A.Rodgers</td><td>NA      </td><td>J.Nelson</td></tr>\n",
              "</tbody>\n",
              "</table>\n"
            ]
          },
          "metadata": {}
        }
      ]
    },
    {
      "cell_type": "markdown",
      "metadata": {
        "id": "OzhWhNfZbDoL"
      },
      "source": [
        "Utilizando o subconjunto de dados **acoesJogadas** e **pontuacaoJogadas**, crie uma análise que retorne qual foi o jogador que conquistou mais jardas no terceiro quarto."
      ]
    },
    {
      "cell_type": "code",
      "metadata": {
        "id": "E-13Rsw_bDoL",
        "outputId": "df3df0d0-4ae1-4aa7-878f-66cdef6c6993",
        "colab": {
          "base_uri": "https://localhost:8080/",
          "height": 192
        }
      },
      "source": [
        "passer <- acoesJogadas %>%\n",
        "  inner_join(pontuacaoJogadas, by = 'play_id') %>%\n",
        "  select(play_id, qtr, time, yards_gained, passer) %>%\n",
        "  filter(qtr==3) %>%\n",
        "  group_by(passer) %>%\n",
        "  summarise(yards_gained = sum(yards_gained)) %>%\n",
        "  arrange(desc(yards_gained))\n",
        "\n",
        "passer <- rename(passer, 'Player Name' = passer)\n",
        "head(passer)\n"
      ],
      "execution_count": 12,
      "outputs": [
        {
          "output_type": "display_data",
          "data": {
            "text/plain": [
              "  Player Name yards_gained\n",
              "1 R.Wilson    48          \n",
              "2 A.Rodgers   23          \n",
              "3 NA          NA          "
            ],
            "text/latex": "A tibble: 3 × 2\n\\begin{tabular}{ll}\n Player Name & yards\\_gained\\\\\n <chr> & <dbl>\\\\\n\\hline\n\t R.Wilson  & 48\\\\\n\t A.Rodgers & 23\\\\\n\t NA        & NA\\\\\n\\end{tabular}\n",
            "text/markdown": "\nA tibble: 3 × 2\n\n| Player Name &lt;chr&gt; | yards_gained &lt;dbl&gt; |\n|---|---|\n| R.Wilson  | 48 |\n| A.Rodgers | 23 |\n| NA        | NA |\n\n",
            "text/html": [
              "<table class=\"dataframe\">\n",
              "<caption>A tibble: 3 × 2</caption>\n",
              "<thead>\n",
              "\t<tr><th scope=col>Player Name</th><th scope=col>yards_gained</th></tr>\n",
              "\t<tr><th scope=col>&lt;chr&gt;</th><th scope=col>&lt;dbl&gt;</th></tr>\n",
              "</thead>\n",
              "<tbody>\n",
              "\t<tr><td>R.Wilson </td><td>48</td></tr>\n",
              "\t<tr><td>A.Rodgers</td><td>23</td></tr>\n",
              "\t<tr><td>NA       </td><td>NA</td></tr>\n",
              "</tbody>\n",
              "</table>\n"
            ]
          },
          "metadata": {}
        }
      ]
    },
    {
      "cell_type": "markdown",
      "metadata": {
        "id": "f_lNyUgDXFXY"
      },
      "source": [
        "Considerando apenas os jogadores que fazem passe, o jogador que correu mais jardas foi o R. Wilson"
      ]
    },
    {
      "cell_type": "code",
      "metadata": {
        "id": "Z1Lwxpw9kpYC",
        "outputId": "17117e5f-2b4a-4021-bf08-fd6566cf4ce7",
        "colab": {
          "base_uri": "https://localhost:8080/",
          "height": 255
        }
      },
      "source": [
        "rusher <- acoesJogadas %>%\n",
        "  inner_join(pontuacaoJogadas, by = 'play_id') %>%\n",
        "  select(play_id, qtr, time, yards_gained, rusher) %>%\n",
        "  filter(qtr==3) %>%\n",
        "  group_by(rusher) %>%\n",
        "  summarise(yards_gained = sum(yards_gained)) %>%\n",
        "  arrange(desc(yards_gained))\n",
        "\n",
        "rusher <- rename(rusher, 'Player Name' = rusher)\n",
        "head(rusher)"
      ],
      "execution_count": 13,
      "outputs": [
        {
          "output_type": "display_data",
          "data": {
            "text/plain": [
              "  Player Name yards_gained\n",
              "1 M.Lynch     34          \n",
              "2 P.Harvin    16          \n",
              "3 R.Turbin     9          \n",
              "4 E.Lacy       2          \n",
              "5 NA          NA          "
            ],
            "text/latex": "A tibble: 5 × 2\n\\begin{tabular}{ll}\n Player Name & yards\\_gained\\\\\n <chr> & <dbl>\\\\\n\\hline\n\t M.Lynch  & 34\\\\\n\t P.Harvin & 16\\\\\n\t R.Turbin &  9\\\\\n\t E.Lacy   &  2\\\\\n\t NA       & NA\\\\\n\\end{tabular}\n",
            "text/markdown": "\nA tibble: 5 × 2\n\n| Player Name &lt;chr&gt; | yards_gained &lt;dbl&gt; |\n|---|---|\n| M.Lynch  | 34 |\n| P.Harvin | 16 |\n| R.Turbin |  9 |\n| E.Lacy   |  2 |\n| NA       | NA |\n\n",
            "text/html": [
              "<table class=\"dataframe\">\n",
              "<caption>A tibble: 5 × 2</caption>\n",
              "<thead>\n",
              "\t<tr><th scope=col>Player Name</th><th scope=col>yards_gained</th></tr>\n",
              "\t<tr><th scope=col>&lt;chr&gt;</th><th scope=col>&lt;dbl&gt;</th></tr>\n",
              "</thead>\n",
              "<tbody>\n",
              "\t<tr><td>M.Lynch </td><td>34</td></tr>\n",
              "\t<tr><td>P.Harvin</td><td>16</td></tr>\n",
              "\t<tr><td>R.Turbin</td><td> 9</td></tr>\n",
              "\t<tr><td>E.Lacy  </td><td> 2</td></tr>\n",
              "\t<tr><td>NA      </td><td>NA</td></tr>\n",
              "</tbody>\n",
              "</table>\n"
            ]
          },
          "metadata": {}
        }
      ]
    },
    {
      "cell_type": "markdown",
      "metadata": {
        "id": "KK-AjxI1ktUU"
      },
      "source": [
        "Considerando apenas os jogadores que correm, o jogador que correu mais jardas foi o M. Lynch"
      ]
    },
    {
      "cell_type": "code",
      "metadata": {
        "id": "oRlVmbLikxkk",
        "outputId": "2fd46133-6532-4362-be8e-7864c95b293b",
        "colab": {
          "base_uri": "https://localhost:8080/",
          "height": 286
        }
      },
      "source": [
        "receiver1 <- acoesJogadas %>%\n",
        "  inner_join(pontuacaoJogadas, by = 'play_id') %>%\n",
        "  select(play_id, qtr, time, yards_gained, receiver) %>%\n",
        "  filter(qtr==3) %>%\n",
        "  group_by(receiver) %>%\n",
        "  summarise(yards_gained = sum(yards_gained)) %>%\n",
        "  arrange(desc(yards_gained))\n",
        "\n",
        "receiver1 <- rename(receiver1, 'Player Name' = receiver)\n",
        "head(receiver1)"
      ],
      "execution_count": 14,
      "outputs": [
        {
          "output_type": "display_data",
          "data": {
            "text/plain": [
              "  Player Name yards_gained\n",
              "1 R.Cobb      23          \n",
              "2 Z.Miller    18          \n",
              "3 J.Nelson    14          \n",
              "4 P.Harvin    11          \n",
              "5 D.Baldwin    6          \n",
              "6 J.Kearse     0          "
            ],
            "text/latex": "A tibble: 6 × 2\n\\begin{tabular}{ll}\n Player Name & yards\\_gained\\\\\n <chr> & <dbl>\\\\\n\\hline\n\t R.Cobb    & 23\\\\\n\t Z.Miller  & 18\\\\\n\t J.Nelson  & 14\\\\\n\t P.Harvin  & 11\\\\\n\t D.Baldwin &  6\\\\\n\t J.Kearse  &  0\\\\\n\\end{tabular}\n",
            "text/markdown": "\nA tibble: 6 × 2\n\n| Player Name &lt;chr&gt; | yards_gained &lt;dbl&gt; |\n|---|---|\n| R.Cobb    | 23 |\n| Z.Miller  | 18 |\n| J.Nelson  | 14 |\n| P.Harvin  | 11 |\n| D.Baldwin |  6 |\n| J.Kearse  |  0 |\n\n",
            "text/html": [
              "<table class=\"dataframe\">\n",
              "<caption>A tibble: 6 × 2</caption>\n",
              "<thead>\n",
              "\t<tr><th scope=col>Player Name</th><th scope=col>yards_gained</th></tr>\n",
              "\t<tr><th scope=col>&lt;chr&gt;</th><th scope=col>&lt;dbl&gt;</th></tr>\n",
              "</thead>\n",
              "<tbody>\n",
              "\t<tr><td>R.Cobb   </td><td>23</td></tr>\n",
              "\t<tr><td>Z.Miller </td><td>18</td></tr>\n",
              "\t<tr><td>J.Nelson </td><td>14</td></tr>\n",
              "\t<tr><td>P.Harvin </td><td>11</td></tr>\n",
              "\t<tr><td>D.Baldwin</td><td> 6</td></tr>\n",
              "\t<tr><td>J.Kearse </td><td> 0</td></tr>\n",
              "</tbody>\n",
              "</table>\n"
            ]
          },
          "metadata": {}
        }
      ]
    },
    {
      "cell_type": "markdown",
      "metadata": {
        "id": "TcOCJLK3kzGk"
      },
      "source": [
        "Considerando apenas os jogadores que recebem o passe, o jogador que correu mais jardas foi o R. Cobb\n",
        "\n"
      ]
    },
    {
      "cell_type": "code",
      "metadata": {
        "id": "x8EKorkxkssS"
      },
      "source": [
        "geral <- passer %>%\n",
        "  full_join(rusher, by ='Player Name') %>%\n",
        "  full_join(receiver1, by = 'Player Name') %>%\n",
        "  replace_na(list(yards_gained.x = 0, yards_gained.y = 0, yards_gained =0)) "
      ],
      "execution_count": 23,
      "outputs": []
    },
    {
      "cell_type": "code",
      "metadata": {
        "id": "yL7eDyapmAsc",
        "outputId": "3f75d0ef-7572-4357-8350-37f80709bbe8",
        "colab": {
          "base_uri": "https://localhost:8080/",
          "height": 537
        }
      },
      "source": [
        "geral %>%\n",
        "  mutate(geral, jardas_ganhas = yards_gained.x + yards_gained.y + yards_gained) %>%\n",
        "  select ('Player Name',jardas_ganhas) %>%\n",
        "  arrange(desc(jardas_ganhas))"
      ],
      "execution_count": 26,
      "outputs": [
        {
          "output_type": "display_data",
          "data": {
            "text/plain": [
              "   Player Name jardas_ganhas\n",
              "1  R.Wilson    48           \n",
              "2  M.Lynch     34           \n",
              "3  P.Harvin    27           \n",
              "4  A.Rodgers   23           \n",
              "5  R.Cobb      23           \n",
              "6  Z.Miller    18           \n",
              "7  J.Nelson    14           \n",
              "8  R.Turbin     9           \n",
              "9  D.Baldwin    6           \n",
              "10 E.Lacy       2           \n",
              "11 NA           0           \n",
              "12 J.Kearse     0           \n",
              "13 J.Starks     0           \n",
              "14 R.Lockette   0           "
            ],
            "text/latex": "A tibble: 14 × 2\n\\begin{tabular}{ll}\n Player Name & jardas\\_ganhas\\\\\n <chr> & <dbl>\\\\\n\\hline\n\t R.Wilson   & 48\\\\\n\t M.Lynch    & 34\\\\\n\t P.Harvin   & 27\\\\\n\t A.Rodgers  & 23\\\\\n\t R.Cobb     & 23\\\\\n\t Z.Miller   & 18\\\\\n\t J.Nelson   & 14\\\\\n\t R.Turbin   &  9\\\\\n\t D.Baldwin  &  6\\\\\n\t E.Lacy     &  2\\\\\n\t NA         &  0\\\\\n\t J.Kearse   &  0\\\\\n\t J.Starks   &  0\\\\\n\t R.Lockette &  0\\\\\n\\end{tabular}\n",
            "text/markdown": "\nA tibble: 14 × 2\n\n| Player Name &lt;chr&gt; | jardas_ganhas &lt;dbl&gt; |\n|---|---|\n| R.Wilson   | 48 |\n| M.Lynch    | 34 |\n| P.Harvin   | 27 |\n| A.Rodgers  | 23 |\n| R.Cobb     | 23 |\n| Z.Miller   | 18 |\n| J.Nelson   | 14 |\n| R.Turbin   |  9 |\n| D.Baldwin  |  6 |\n| E.Lacy     |  2 |\n| NA         |  0 |\n| J.Kearse   |  0 |\n| J.Starks   |  0 |\n| R.Lockette |  0 |\n\n",
            "text/html": [
              "<table class=\"dataframe\">\n",
              "<caption>A tibble: 14 × 2</caption>\n",
              "<thead>\n",
              "\t<tr><th scope=col>Player Name</th><th scope=col>jardas_ganhas</th></tr>\n",
              "\t<tr><th scope=col>&lt;chr&gt;</th><th scope=col>&lt;dbl&gt;</th></tr>\n",
              "</thead>\n",
              "<tbody>\n",
              "\t<tr><td>R.Wilson  </td><td>48</td></tr>\n",
              "\t<tr><td>M.Lynch   </td><td>34</td></tr>\n",
              "\t<tr><td>P.Harvin  </td><td>27</td></tr>\n",
              "\t<tr><td>A.Rodgers </td><td>23</td></tr>\n",
              "\t<tr><td>R.Cobb    </td><td>23</td></tr>\n",
              "\t<tr><td>Z.Miller  </td><td>18</td></tr>\n",
              "\t<tr><td>J.Nelson  </td><td>14</td></tr>\n",
              "\t<tr><td>R.Turbin  </td><td> 9</td></tr>\n",
              "\t<tr><td>D.Baldwin </td><td> 6</td></tr>\n",
              "\t<tr><td>E.Lacy    </td><td> 2</td></tr>\n",
              "\t<tr><td>NA        </td><td> 0</td></tr>\n",
              "\t<tr><td>J.Kearse  </td><td> 0</td></tr>\n",
              "\t<tr><td>J.Starks  </td><td> 0</td></tr>\n",
              "\t<tr><td>R.Lockette</td><td> 0</td></tr>\n",
              "</tbody>\n",
              "</table>\n"
            ]
          },
          "metadata": {}
        }
      ]
    },
    {
      "cell_type": "markdown",
      "metadata": {
        "id": "ymFVqLnRlAYN"
      },
      "source": [
        "**Conclusão:**\n",
        "\n",
        "Considerando todos os jogadores, o jogador que mais conquistou jardas no 3 quarters, somando todas as jogadas, foi R. Wilson\n",
        "\n",
        "Não tenho um conhecimento de como funciona muito bem o futebol americano, talvez essa sepração entre Passer, Rusher e Receiver, não faça sentido para a análise, porém achei interessante até para exercitar o Group By e Summarise"
      ]
    },
    {
      "cell_type": "markdown",
      "metadata": {
        "id": "0bfYBj3kWpKZ"
      },
      "source": [
        "# **Desafio de geração de gráfico**"
      ]
    },
    {
      "cell_type": "markdown",
      "metadata": {
        "id": "ozO5CvzkbDoM"
      },
      "source": [
        "Crie um gráfico de linhas, mostrando a pontuação de cada time em cada *quarter*. O resultado deve ter duas linhas, uma para cada time, e cada linha será composta pela pontuação de cada um dos *quarters* sendo uma cor para cada time. O eixo X terá os *quarters* e o eixo y terá a pontuação."
      ]
    },
    {
      "cell_type": "code",
      "metadata": {
        "id": "lLqc3pBUbDoM",
        "outputId": "1dd59ee6-f50a-42e7-df96-1c8f9acb43f2",
        "colab": {
          "base_uri": "https://localhost:8080/",
          "height": 645
        }
      },
      "source": [
        "pontos <- acoesJogadas %>%\n",
        "    inner_join(pontuacaoJogadas, by='play_id') %>%\n",
        "    select(qtr, posteam, posteam_score) %>%\n",
        "    group_by(qtr, posteam) %>%\n",
        "    filter(posteam_score == max(posteam_score)) %>%\n",
        "    arrange(posteam) %>%\n",
        "    unique()\n",
        "\n",
        "print(pontos)\n",
        "\n",
        "ggplot(pontos, aes(x = qtr, y = posteam_score, col=posteam)) + geom_line() + theme_light()\n"
      ],
      "execution_count": 32,
      "outputs": [
        {
          "output_type": "stream",
          "name": "stdout",
          "text": [
            "\u001b[90m# A tibble: 8 × 3\u001b[39m\n",
            "\u001b[90m# Groups:   qtr, posteam [8]\u001b[39m\n",
            "    qtr posteam posteam_score\n",
            "  \u001b[3m\u001b[90m<dbl>\u001b[39m\u001b[23m \u001b[3m\u001b[90m<chr>\u001b[39m\u001b[23m           \u001b[3m\u001b[90m<dbl>\u001b[39m\u001b[23m\n",
            "\u001b[90m1\u001b[39m     1 GB                  6\n",
            "\u001b[90m2\u001b[39m     2 GB                 10\n",
            "\u001b[90m3\u001b[39m     3 GB                 10\n",
            "\u001b[90m4\u001b[39m     4 GB                 16\n",
            "\u001b[90m5\u001b[39m     1 SEA                 3\n",
            "\u001b[90m6\u001b[39m     2 SEA                17\n",
            "\u001b[90m7\u001b[39m     3 SEA                22\n",
            "\u001b[90m8\u001b[39m     4 SEA                36\n"
          ]
        },
        {
          "output_type": "display_data",
          "data": {
            "image/png": "[encoded data removed]",
            "text/plain": [
              "plot without title"
            ]
          },
          "metadata": {
            "image/png": {
              "width": 420,
              "height": 420
            }
          }
        }
      ]
    },
    {
      "cell_type": "markdown",
      "metadata": {
        "id": "JTIsCS8MbDoN"
      },
      "source": [
        "Crie um gráfico de barras empilhada (colunas verticais), utilizando somente as jogadas que tiveram entre 10 e 20 jardas conquistas.\n",
        "O empilhamento das barras será feito pela quantidade de jardas conquistadas (entre 10 e 20). Mantenha as barras verticais segmentadas por quarter do jogo, e por fim, crie a faceta baseada nos times.\n"
      ]
    },
    {
      "cell_type": "code",
      "metadata": {
        "id": "u-pR4ziqbDoN",
        "outputId": "01f129f1-a712-41ea-a9c6-2dae6b38ce89",
        "colab": {
          "base_uri": "https://localhost:8080/",
          "height": 437
        }
      },
      "source": [
        "jardasconquis <- acoesJogadas %>%\n",
        "    inner_join(pontuacaoJogadas, by='play_id') %>%\n",
        "    filter(yards_gained >= 10 & yards_gained < 20 ) %>%\n",
        "    select(posteam,qtr,yards_gained)\n",
        "\n",
        "#print(jardasconquis)\n",
        "\n",
        "ggplot(jardasconquis, aes(qtr, fill = as.character(yards_gained))) +\n",
        "xlab ('Quarter')+\n",
        "ylab ('Contagem \\n de jogadas')+\n",
        "geom_bar(position = \"fill\") +\n",
        "facet_grid(. ~ posteam) + \n",
        "scale_fill_brewer (palette = 'Spectral')\n",
        "\n"
      ],
      "execution_count": 44,
      "outputs": [
        {
          "output_type": "display_data",
          "data": {
            "image/png": "[encoded data removed]",
            "text/plain": [
              "plot without title"
            ]
          },
          "metadata": {
            "image/png": {
              "width": 420,
              "height": 420
            }
          }
        }
      ]
    }
  ]
}